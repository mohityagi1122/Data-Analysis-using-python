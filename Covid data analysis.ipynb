{
 "cells": [
  {
   "cell_type": "code",
   "execution_count": 1,
   "id": "56520827",
   "metadata": {},
   "outputs": [],
   "source": [
    "import numpy as np\n",
    "import pandas as pd\n",
    "import matplotlib.pyplot as plt\n",
    "import seaborn as sns\n",
    "import plotly.express as px\n",
    "from plotly.subplots import make_subplots\n",
    "from datetime import datetime\n",
    "%matplotlib inline"
   ]
  },
  {
   "cell_type": "code",
   "execution_count": 2,
   "id": "4a22b47e",
   "metadata": {},
   "outputs": [],
   "source": [
    "import warnings\n",
    "warnings.filterwarnings(\"ignore\") "
   ]
  },
  {
   "cell_type": "code",
   "execution_count": 3,
   "id": "af315c1e",
   "metadata": {},
   "outputs": [],
   "source": [
    "covid_df = pd.read_csv(\"covid_19_india.csv\")"
   ]
  },
  {
   "cell_type": "code",
   "execution_count": 4,
   "id": "fcaf5c55",
   "metadata": {},
   "outputs": [],
   "source": [
    "vaccine_df = pd.read_csv(\"covid_vaccine_statewise.csv\")"
   ]
  },
  {
   "cell_type": "code",
   "execution_count": 5,
   "id": "ab244939",
   "metadata": {
    "scrolled": true
   },
   "outputs": [
    {
     "data": {
      "text/html": [
       "<div>\n",
       "<style scoped>\n",
       "    .dataframe tbody tr th:only-of-type {\n",
       "        vertical-align: middle;\n",
       "    }\n",
       "\n",
       "    .dataframe tbody tr th {\n",
       "        vertical-align: top;\n",
       "    }\n",
       "\n",
       "    .dataframe thead th {\n",
       "        text-align: right;\n",
       "    }\n",
       "</style>\n",
       "<table border=\"1\" class=\"dataframe\">\n",
       "  <thead>\n",
       "    <tr style=\"text-align: right;\">\n",
       "      <th></th>\n",
       "      <th>Sno</th>\n",
       "      <th>Date</th>\n",
       "      <th>Time</th>\n",
       "      <th>State/UnionTerritory</th>\n",
       "      <th>ConfirmedIndianNational</th>\n",
       "      <th>ConfirmedForeignNational</th>\n",
       "      <th>Cured</th>\n",
       "      <th>Deaths</th>\n",
       "      <th>Confirmed</th>\n",
       "    </tr>\n",
       "  </thead>\n",
       "  <tbody>\n",
       "    <tr>\n",
       "      <th>0</th>\n",
       "      <td>1</td>\n",
       "      <td>30/01/20</td>\n",
       "      <td>6:00 PM</td>\n",
       "      <td>Kerala</td>\n",
       "      <td>1</td>\n",
       "      <td>0</td>\n",
       "      <td>0</td>\n",
       "      <td>0</td>\n",
       "      <td>1</td>\n",
       "    </tr>\n",
       "    <tr>\n",
       "      <th>1</th>\n",
       "      <td>2</td>\n",
       "      <td>31/01/20</td>\n",
       "      <td>6:00 PM</td>\n",
       "      <td>Kerala</td>\n",
       "      <td>1</td>\n",
       "      <td>0</td>\n",
       "      <td>0</td>\n",
       "      <td>0</td>\n",
       "      <td>1</td>\n",
       "    </tr>\n",
       "    <tr>\n",
       "      <th>2</th>\n",
       "      <td>3</td>\n",
       "      <td>1/2/2020</td>\n",
       "      <td>6:00 PM</td>\n",
       "      <td>Kerala</td>\n",
       "      <td>2</td>\n",
       "      <td>0</td>\n",
       "      <td>0</td>\n",
       "      <td>0</td>\n",
       "      <td>2</td>\n",
       "    </tr>\n",
       "    <tr>\n",
       "      <th>3</th>\n",
       "      <td>4</td>\n",
       "      <td>2/2/2020</td>\n",
       "      <td>6:00 PM</td>\n",
       "      <td>Kerala</td>\n",
       "      <td>3</td>\n",
       "      <td>0</td>\n",
       "      <td>0</td>\n",
       "      <td>0</td>\n",
       "      <td>3</td>\n",
       "    </tr>\n",
       "    <tr>\n",
       "      <th>4</th>\n",
       "      <td>5</td>\n",
       "      <td>3/2/2020</td>\n",
       "      <td>6:00 PM</td>\n",
       "      <td>Kerala</td>\n",
       "      <td>3</td>\n",
       "      <td>0</td>\n",
       "      <td>0</td>\n",
       "      <td>0</td>\n",
       "      <td>3</td>\n",
       "    </tr>\n",
       "    <tr>\n",
       "      <th>5</th>\n",
       "      <td>6</td>\n",
       "      <td>4/2/2020</td>\n",
       "      <td>6:00 PM</td>\n",
       "      <td>Kerala</td>\n",
       "      <td>3</td>\n",
       "      <td>0</td>\n",
       "      <td>0</td>\n",
       "      <td>0</td>\n",
       "      <td>3</td>\n",
       "    </tr>\n",
       "    <tr>\n",
       "      <th>6</th>\n",
       "      <td>7</td>\n",
       "      <td>5/2/2020</td>\n",
       "      <td>6:00 PM</td>\n",
       "      <td>Kerala</td>\n",
       "      <td>3</td>\n",
       "      <td>0</td>\n",
       "      <td>0</td>\n",
       "      <td>0</td>\n",
       "      <td>3</td>\n",
       "    </tr>\n",
       "    <tr>\n",
       "      <th>7</th>\n",
       "      <td>8</td>\n",
       "      <td>6/2/2020</td>\n",
       "      <td>6:00 PM</td>\n",
       "      <td>Kerala</td>\n",
       "      <td>3</td>\n",
       "      <td>0</td>\n",
       "      <td>0</td>\n",
       "      <td>0</td>\n",
       "      <td>3</td>\n",
       "    </tr>\n",
       "    <tr>\n",
       "      <th>8</th>\n",
       "      <td>9</td>\n",
       "      <td>7/2/2020</td>\n",
       "      <td>6:00 PM</td>\n",
       "      <td>Kerala</td>\n",
       "      <td>3</td>\n",
       "      <td>0</td>\n",
       "      <td>0</td>\n",
       "      <td>0</td>\n",
       "      <td>3</td>\n",
       "    </tr>\n",
       "    <tr>\n",
       "      <th>9</th>\n",
       "      <td>10</td>\n",
       "      <td>8/2/2020</td>\n",
       "      <td>6:00 PM</td>\n",
       "      <td>Kerala</td>\n",
       "      <td>3</td>\n",
       "      <td>0</td>\n",
       "      <td>0</td>\n",
       "      <td>0</td>\n",
       "      <td>3</td>\n",
       "    </tr>\n",
       "  </tbody>\n",
       "</table>\n",
       "</div>"
      ],
      "text/plain": [
       "   Sno      Date     Time State/UnionTerritory ConfirmedIndianNational  \\\n",
       "0    1  30/01/20  6:00 PM               Kerala                       1   \n",
       "1    2  31/01/20  6:00 PM               Kerala                       1   \n",
       "2    3  1/2/2020  6:00 PM               Kerala                       2   \n",
       "3    4  2/2/2020  6:00 PM               Kerala                       3   \n",
       "4    5  3/2/2020  6:00 PM               Kerala                       3   \n",
       "5    6  4/2/2020  6:00 PM               Kerala                       3   \n",
       "6    7  5/2/2020  6:00 PM               Kerala                       3   \n",
       "7    8  6/2/2020  6:00 PM               Kerala                       3   \n",
       "8    9  7/2/2020  6:00 PM               Kerala                       3   \n",
       "9   10  8/2/2020  6:00 PM               Kerala                       3   \n",
       "\n",
       "  ConfirmedForeignNational  Cured  Deaths  Confirmed  \n",
       "0                        0      0       0          1  \n",
       "1                        0      0       0          1  \n",
       "2                        0      0       0          2  \n",
       "3                        0      0       0          3  \n",
       "4                        0      0       0          3  \n",
       "5                        0      0       0          3  \n",
       "6                        0      0       0          3  \n",
       "7                        0      0       0          3  \n",
       "8                        0      0       0          3  \n",
       "9                        0      0       0          3  "
      ]
     },
     "execution_count": 5,
     "metadata": {},
     "output_type": "execute_result"
    }
   ],
   "source": [
    "covid_df.head(10)"
   ]
  },
  {
   "cell_type": "code",
   "execution_count": 6,
   "id": "b5b88b12",
   "metadata": {},
   "outputs": [
    {
     "name": "stdout",
     "output_type": "stream",
     "text": [
      "<class 'pandas.core.frame.DataFrame'>\n",
      "RangeIndex: 3351 entries, 0 to 3350\n",
      "Data columns (total 9 columns):\n",
      " #   Column                    Non-Null Count  Dtype \n",
      "---  ------                    --------------  ----- \n",
      " 0   Sno                       3351 non-null   int64 \n",
      " 1   Date                      3351 non-null   object\n",
      " 2   Time                      3351 non-null   object\n",
      " 3   State/UnionTerritory      3351 non-null   object\n",
      " 4   ConfirmedIndianNational   3351 non-null   object\n",
      " 5   ConfirmedForeignNational  3351 non-null   object\n",
      " 6   Cured                     3351 non-null   int64 \n",
      " 7   Deaths                    3351 non-null   int64 \n",
      " 8   Confirmed                 3351 non-null   int64 \n",
      "dtypes: int64(4), object(5)\n",
      "memory usage: 235.7+ KB\n"
     ]
    }
   ],
   "source": [
    "covid_df.info()"
   ]
  },
  {
   "cell_type": "code",
   "execution_count": 7,
   "id": "a7027c7f",
   "metadata": {},
   "outputs": [],
   "source": [
    "covid_df.drop(['Sno','ConfirmedIndianNational', 'ConfirmedForeignNational', 'Time'], inplace = True, axis = 1)"
   ]
  },
  {
   "cell_type": "code",
   "execution_count": 8,
   "id": "2ebae4ad",
   "metadata": {},
   "outputs": [
    {
     "data": {
      "text/html": [
       "<div>\n",
       "<style scoped>\n",
       "    .dataframe tbody tr th:only-of-type {\n",
       "        vertical-align: middle;\n",
       "    }\n",
       "\n",
       "    .dataframe tbody tr th {\n",
       "        vertical-align: top;\n",
       "    }\n",
       "\n",
       "    .dataframe thead th {\n",
       "        text-align: right;\n",
       "    }\n",
       "</style>\n",
       "<table border=\"1\" class=\"dataframe\">\n",
       "  <thead>\n",
       "    <tr style=\"text-align: right;\">\n",
       "      <th></th>\n",
       "      <th>Date</th>\n",
       "      <th>State/UnionTerritory</th>\n",
       "      <th>Cured</th>\n",
       "      <th>Deaths</th>\n",
       "      <th>Confirmed</th>\n",
       "    </tr>\n",
       "  </thead>\n",
       "  <tbody>\n",
       "    <tr>\n",
       "      <th>0</th>\n",
       "      <td>30/01/20</td>\n",
       "      <td>Kerala</td>\n",
       "      <td>0</td>\n",
       "      <td>0</td>\n",
       "      <td>1</td>\n",
       "    </tr>\n",
       "    <tr>\n",
       "      <th>1</th>\n",
       "      <td>31/01/20</td>\n",
       "      <td>Kerala</td>\n",
       "      <td>0</td>\n",
       "      <td>0</td>\n",
       "      <td>1</td>\n",
       "    </tr>\n",
       "    <tr>\n",
       "      <th>2</th>\n",
       "      <td>1/2/2020</td>\n",
       "      <td>Kerala</td>\n",
       "      <td>0</td>\n",
       "      <td>0</td>\n",
       "      <td>2</td>\n",
       "    </tr>\n",
       "    <tr>\n",
       "      <th>3</th>\n",
       "      <td>2/2/2020</td>\n",
       "      <td>Kerala</td>\n",
       "      <td>0</td>\n",
       "      <td>0</td>\n",
       "      <td>3</td>\n",
       "    </tr>\n",
       "    <tr>\n",
       "      <th>4</th>\n",
       "      <td>3/2/2020</td>\n",
       "      <td>Kerala</td>\n",
       "      <td>0</td>\n",
       "      <td>0</td>\n",
       "      <td>3</td>\n",
       "    </tr>\n",
       "  </tbody>\n",
       "</table>\n",
       "</div>"
      ],
      "text/plain": [
       "       Date State/UnionTerritory  Cured  Deaths  Confirmed\n",
       "0  30/01/20               Kerala      0       0          1\n",
       "1  31/01/20               Kerala      0       0          1\n",
       "2  1/2/2020               Kerala      0       0          2\n",
       "3  2/2/2020               Kerala      0       0          3\n",
       "4  3/2/2020               Kerala      0       0          3"
      ]
     },
     "execution_count": 8,
     "metadata": {},
     "output_type": "execute_result"
    }
   ],
   "source": [
    "covid_df.head()"
   ]
  },
  {
   "cell_type": "code",
   "execution_count": 9,
   "id": "9dde5608",
   "metadata": {},
   "outputs": [],
   "source": [
    "#Active Cases\n",
    "\n",
    "covid_df['Active_Cases'] = covid_df['Confirmed'] - (covid_df['Cured'] + covid_df['Deaths'])"
   ]
  },
  {
   "cell_type": "code",
   "execution_count": 10,
   "id": "e8cc25f6",
   "metadata": {},
   "outputs": [
    {
     "data": {
      "text/html": [
       "<div>\n",
       "<style scoped>\n",
       "    .dataframe tbody tr th:only-of-type {\n",
       "        vertical-align: middle;\n",
       "    }\n",
       "\n",
       "    .dataframe tbody tr th {\n",
       "        vertical-align: top;\n",
       "    }\n",
       "\n",
       "    .dataframe thead th {\n",
       "        text-align: right;\n",
       "    }\n",
       "</style>\n",
       "<table border=\"1\" class=\"dataframe\">\n",
       "  <thead>\n",
       "    <tr style=\"text-align: right;\">\n",
       "      <th></th>\n",
       "      <th>Date</th>\n",
       "      <th>State/UnionTerritory</th>\n",
       "      <th>Cured</th>\n",
       "      <th>Deaths</th>\n",
       "      <th>Confirmed</th>\n",
       "      <th>Active_Cases</th>\n",
       "    </tr>\n",
       "  </thead>\n",
       "  <tbody>\n",
       "    <tr>\n",
       "      <th>3346</th>\n",
       "      <td>22/06/20</td>\n",
       "      <td>Tripura</td>\n",
       "      <td>782</td>\n",
       "      <td>1</td>\n",
       "      <td>1237</td>\n",
       "      <td>454</td>\n",
       "    </tr>\n",
       "    <tr>\n",
       "      <th>3347</th>\n",
       "      <td>22/06/20</td>\n",
       "      <td>Uttarakhand</td>\n",
       "      <td>1521</td>\n",
       "      <td>28</td>\n",
       "      <td>2402</td>\n",
       "      <td>853</td>\n",
       "    </tr>\n",
       "    <tr>\n",
       "      <th>3348</th>\n",
       "      <td>22/06/20</td>\n",
       "      <td>Uttar Pradesh</td>\n",
       "      <td>11601</td>\n",
       "      <td>569</td>\n",
       "      <td>18322</td>\n",
       "      <td>6152</td>\n",
       "    </tr>\n",
       "    <tr>\n",
       "      <th>3349</th>\n",
       "      <td>22/06/20</td>\n",
       "      <td>West Bengal</td>\n",
       "      <td>8687</td>\n",
       "      <td>569</td>\n",
       "      <td>14358</td>\n",
       "      <td>5102</td>\n",
       "    </tr>\n",
       "    <tr>\n",
       "      <th>3350</th>\n",
       "      <td>22/06/20</td>\n",
       "      <td>Cases being reassigned to states</td>\n",
       "      <td>0</td>\n",
       "      <td>0</td>\n",
       "      <td>8015</td>\n",
       "      <td>8015</td>\n",
       "    </tr>\n",
       "  </tbody>\n",
       "</table>\n",
       "</div>"
      ],
      "text/plain": [
       "          Date              State/UnionTerritory  Cured  Deaths  Confirmed  \\\n",
       "3346  22/06/20                           Tripura    782       1       1237   \n",
       "3347  22/06/20                       Uttarakhand   1521      28       2402   \n",
       "3348  22/06/20                     Uttar Pradesh  11601     569      18322   \n",
       "3349  22/06/20                       West Bengal   8687     569      14358   \n",
       "3350  22/06/20  Cases being reassigned to states      0       0       8015   \n",
       "\n",
       "      Active_Cases  \n",
       "3346           454  \n",
       "3347           853  \n",
       "3348          6152  \n",
       "3349          5102  \n",
       "3350          8015  "
      ]
     },
     "execution_count": 10,
     "metadata": {},
     "output_type": "execute_result"
    }
   ],
   "source": [
    "covid_df.tail()"
   ]
  },
  {
   "cell_type": "code",
   "execution_count": 11,
   "id": "084a92a1",
   "metadata": {},
   "outputs": [],
   "source": [
    "statewise= pd.pivot_table(covid_df, values=['Cured', 'Deaths', 'Confirmed'], index='State/UnionTerritory', aggfunc = max)"
   ]
  },
  {
   "cell_type": "code",
   "execution_count": 12,
   "id": "f4dd870a",
   "metadata": {},
   "outputs": [],
   "source": [
    "statewise['Recover Rate'] = statewise['Cured']*100/statewise[\"Confirmed\"] "
   ]
  },
  {
   "cell_type": "code",
   "execution_count": 13,
   "id": "fdef1413",
   "metadata": {},
   "outputs": [],
   "source": [
    "statewise['Mortality Rate'] = statewise['Deaths']*100/statewise['Confirmed']"
   ]
  },
  {
   "cell_type": "code",
   "execution_count": 14,
   "id": "6aaa35a5",
   "metadata": {},
   "outputs": [],
   "source": [
    "statewise = statewise.sort_values(by = 'Confirmed', ascending=False)"
   ]
  },
  {
   "cell_type": "code",
   "execution_count": 15,
   "id": "60f5ceb0",
   "metadata": {},
   "outputs": [
    {
     "data": {
      "text/html": [
       "<style type=\"text/css\">\n",
       "#T_b0206_row0_col0, #T_b0206_row0_col1, #T_b0206_row0_col2, #T_b0206_row3_col4, #T_b0206_row37_col3 {\n",
       "  background-color: #081d58;\n",
       "  color: #f1f1f1;\n",
       "}\n",
       "#T_b0206_row0_col3 {\n",
       "  background-color: #269bc1;\n",
       "  color: #f1f1f1;\n",
       "}\n",
       "#T_b0206_row0_col4 {\n",
       "  background-color: #2259a6;\n",
       "  color: #f1f1f1;\n",
       "}\n",
       "#T_b0206_row1_col0, #T_b0206_row29_col3 {\n",
       "  background-color: #53bdc1;\n",
       "  color: #000000;\n",
       "}\n",
       "#T_b0206_row1_col1 {\n",
       "  background-color: #35aac3;\n",
       "  color: #f1f1f1;\n",
       "}\n",
       "#T_b0206_row1_col2, #T_b0206_row33_col3 {\n",
       "  background-color: #8cd2ba;\n",
       "  color: #000000;\n",
       "}\n",
       "#T_b0206_row1_col3 {\n",
       "  background-color: #2075b3;\n",
       "  color: #f1f1f1;\n",
       "}\n",
       "#T_b0206_row1_col4 {\n",
       "  background-color: #289cc1;\n",
       "  color: #f1f1f1;\n",
       "}\n",
       "#T_b0206_row2_col0 {\n",
       "  background-color: #55bec1;\n",
       "  color: #000000;\n",
       "}\n",
       "#T_b0206_row2_col1 {\n",
       "  background-color: #40b5c4;\n",
       "  color: #f1f1f1;\n",
       "}\n",
       "#T_b0206_row2_col2, #T_b0206_row6_col1 {\n",
       "  background-color: #edf8b1;\n",
       "  color: #000000;\n",
       "}\n",
       "#T_b0206_row2_col3, #T_b0206_row6_col4 {\n",
       "  background-color: #1e85ba;\n",
       "  color: #f1f1f1;\n",
       "}\n",
       "#T_b0206_row2_col4 {\n",
       "  background-color: #d3eeb3;\n",
       "  color: #000000;\n",
       "}\n",
       "#T_b0206_row3_col0 {\n",
       "  background-color: #d5efb3;\n",
       "  color: #000000;\n",
       "}\n",
       "#T_b0206_row3_col1 {\n",
       "  background-color: #aedfb6;\n",
       "  color: #000000;\n",
       "}\n",
       "#T_b0206_row3_col2 {\n",
       "  background-color: #bde5b5;\n",
       "  color: #000000;\n",
       "}\n",
       "#T_b0206_row3_col3 {\n",
       "  background-color: #243c98;\n",
       "  color: #f1f1f1;\n",
       "}\n",
       "#T_b0206_row4_col0, #T_b0206_row7_col1 {\n",
       "  background-color: #eaf7b1;\n",
       "  color: #000000;\n",
       "}\n",
       "#T_b0206_row4_col1 {\n",
       "  background-color: #e0f3b2;\n",
       "  color: #000000;\n",
       "}\n",
       "#T_b0206_row4_col2, #T_b0206_row6_col2, #T_b0206_row38_col3 {\n",
       "  background-color: #f2fabc;\n",
       "  color: #000000;\n",
       "}\n",
       "#T_b0206_row4_col3, #T_b0206_row20_col3, #T_b0206_row23_col3 {\n",
       "  background-color: #225da8;\n",
       "  color: #f1f1f1;\n",
       "}\n",
       "#T_b0206_row4_col4 {\n",
       "  background-color: #3db2c4;\n",
       "  color: #f1f1f1;\n",
       "}\n",
       "#T_b0206_row5_col0 {\n",
       "  background-color: #eff9b6;\n",
       "  color: #000000;\n",
       "}\n",
       "#T_b0206_row5_col1, #T_b0206_row32_col3 {\n",
       "  background-color: #ddf2b2;\n",
       "  color: #000000;\n",
       "}\n",
       "#T_b0206_row5_col2, #T_b0206_row13_col0, #T_b0206_row16_col1 {\n",
       "  background-color: #f7fcc7;\n",
       "  color: #000000;\n",
       "}\n",
       "#T_b0206_row5_col3, #T_b0206_row28_col3 {\n",
       "  background-color: #172978;\n",
       "  color: #f1f1f1;\n",
       "}\n",
       "#T_b0206_row5_col4 {\n",
       "  background-color: #7acbbc;\n",
       "  color: #000000;\n",
       "}\n",
       "#T_b0206_row6_col0 {\n",
       "  background-color: #f0f9b7;\n",
       "  color: #000000;\n",
       "}\n",
       "#T_b0206_row6_col3 {\n",
       "  background-color: #216aad;\n",
       "  color: #f1f1f1;\n",
       "}\n",
       "#T_b0206_row7_col0, #T_b0206_row8_col1, #T_b0206_row21_col4 {\n",
       "  background-color: #f3fabd;\n",
       "  color: #000000;\n",
       "}\n",
       "#T_b0206_row7_col2, #T_b0206_row9_col1, #T_b0206_row13_col1, #T_b0206_row22_col4 {\n",
       "  background-color: #f3fabf;\n",
       "  color: #000000;\n",
       "}\n",
       "#T_b0206_row7_col3 {\n",
       "  background-color: #1d2e83;\n",
       "  color: #f1f1f1;\n",
       "}\n",
       "#T_b0206_row7_col4, #T_b0206_row27_col3 {\n",
       "  background-color: #216daf;\n",
       "  color: #f1f1f1;\n",
       "}\n",
       "#T_b0206_row8_col0 {\n",
       "  background-color: #f4fbc0;\n",
       "  color: #000000;\n",
       "}\n",
       "#T_b0206_row8_col2, #T_b0206_row15_col4, #T_b0206_row18_col1, #T_b0206_row18_col2, #T_b0206_row19_col0, #T_b0206_row19_col1 {\n",
       "  background-color: #fcfed1;\n",
       "  color: #000000;\n",
       "}\n",
       "#T_b0206_row8_col3 {\n",
       "  background-color: #1e8bbd;\n",
       "  color: #f1f1f1;\n",
       "}\n",
       "#T_b0206_row8_col4 {\n",
       "  background-color: #c6e9b4;\n",
       "  color: #000000;\n",
       "}\n",
       "#T_b0206_row9_col0, #T_b0206_row10_col0, #T_b0206_row11_col0 {\n",
       "  background-color: #f5fbc4;\n",
       "  color: #000000;\n",
       "}\n",
       "#T_b0206_row9_col2, #T_b0206_row20_col1, #T_b0206_row21_col1, #T_b0206_row22_col1 {\n",
       "  background-color: #fcfed3;\n",
       "  color: #000000;\n",
       "}\n",
       "#T_b0206_row9_col3 {\n",
       "  background-color: #2168ad;\n",
       "  color: #f1f1f1;\n",
       "}\n",
       "#T_b0206_row9_col4 {\n",
       "  background-color: #c8e9b4;\n",
       "  color: #000000;\n",
       "}\n",
       "#T_b0206_row10_col1, #T_b0206_row12_col0 {\n",
       "  background-color: #f6fbc5;\n",
       "  color: #000000;\n",
       "}\n",
       "#T_b0206_row10_col2, #T_b0206_row17_col2, #T_b0206_row20_col0, #T_b0206_row21_col0, #T_b0206_row22_col0, #T_b0206_row25_col4, #T_b0206_row26_col4 {\n",
       "  background-color: #fdfed4;\n",
       "  color: #000000;\n",
       "}\n",
       "#T_b0206_row10_col3 {\n",
       "  background-color: #2ca1c2;\n",
       "  color: #f1f1f1;\n",
       "}\n",
       "#T_b0206_row10_col4 {\n",
       "  background-color: #d7efb3;\n",
       "  color: #000000;\n",
       "}\n",
       "#T_b0206_row11_col1, #T_b0206_row11_col2, #T_b0206_row11_col3, #T_b0206_row11_col4, #T_b0206_row15_col2, #T_b0206_row16_col2, #T_b0206_row19_col2, #T_b0206_row21_col2, #T_b0206_row22_col2, #T_b0206_row23_col2, #T_b0206_row24_col1, #T_b0206_row24_col2, #T_b0206_row24_col4, #T_b0206_row25_col1, #T_b0206_row25_col2, #T_b0206_row26_col1, #T_b0206_row26_col2, #T_b0206_row27_col2, #T_b0206_row28_col0, #T_b0206_row28_col2, #T_b0206_row29_col0, #T_b0206_row29_col1, #T_b0206_row29_col2, #T_b0206_row30_col0, #T_b0206_row30_col1, #T_b0206_row30_col2, #T_b0206_row30_col4, #T_b0206_row31_col0, #T_b0206_row31_col1, #T_b0206_row31_col2, #T_b0206_row31_col4, #T_b0206_row32_col0, #T_b0206_row32_col1, #T_b0206_row32_col2, #T_b0206_row32_col4, #T_b0206_row33_col0, #T_b0206_row33_col1, #T_b0206_row33_col2, #T_b0206_row33_col4, #T_b0206_row34_col0, #T_b0206_row34_col1, #T_b0206_row34_col2, #T_b0206_row34_col4, #T_b0206_row35_col0, #T_b0206_row35_col1, #T_b0206_row35_col2, #T_b0206_row35_col3, #T_b0206_row35_col4, #T_b0206_row36_col0, #T_b0206_row36_col1, #T_b0206_row36_col2, #T_b0206_row36_col4, #T_b0206_row37_col0, #T_b0206_row37_col1, #T_b0206_row37_col2, #T_b0206_row38_col0, #T_b0206_row38_col1, #T_b0206_row38_col2, #T_b0206_row38_col4, #T_b0206_row39_col0, #T_b0206_row39_col1, #T_b0206_row39_col2, #T_b0206_row39_col3, #T_b0206_row39_col4 {\n",
       "  background-color: #ffffd9;\n",
       "  color: #000000;\n",
       "}\n",
       "#T_b0206_row12_col1 {\n",
       "  background-color: #f7fcc6;\n",
       "  color: #000000;\n",
       "}\n",
       "#T_b0206_row12_col2 {\n",
       "  background-color: #fafdcf;\n",
       "  color: #000000;\n",
       "}\n",
       "#T_b0206_row12_col3 {\n",
       "  background-color: #33a7c2;\n",
       "  color: #f1f1f1;\n",
       "}\n",
       "#T_b0206_row12_col4 {\n",
       "  background-color: #6dc6be;\n",
       "  color: #000000;\n",
       "}\n",
       "#T_b0206_row13_col2, #T_b0206_row23_col0, #T_b0206_row23_col1 {\n",
       "  background-color: #feffd6;\n",
       "  color: #000000;\n",
       "}\n",
       "#T_b0206_row13_col3 {\n",
       "  background-color: #243392;\n",
       "  color: #f1f1f1;\n",
       "}\n",
       "#T_b0206_row13_col4 {\n",
       "  background-color: #eff9b5;\n",
       "  color: #000000;\n",
       "}\n",
       "#T_b0206_row14_col0, #T_b0206_row16_col4 {\n",
       "  background-color: #f9fdcb;\n",
       "  color: #000000;\n",
       "}\n",
       "#T_b0206_row14_col1, #T_b0206_row15_col1 {\n",
       "  background-color: #f8fcc9;\n",
       "  color: #000000;\n",
       "}\n",
       "#T_b0206_row14_col2, #T_b0206_row23_col4 {\n",
       "  background-color: #fdfed5;\n",
       "  color: #000000;\n",
       "}\n",
       "#T_b0206_row14_col3 {\n",
       "  background-color: #2076b3;\n",
       "  color: #f1f1f1;\n",
       "}\n",
       "#T_b0206_row14_col4 {\n",
       "  background-color: #cdebb4;\n",
       "  color: #000000;\n",
       "}\n",
       "#T_b0206_row15_col0, #T_b0206_row17_col1 {\n",
       "  background-color: #f9fdcc;\n",
       "  color: #000000;\n",
       "}\n",
       "#T_b0206_row15_col3 {\n",
       "  background-color: #225ea8;\n",
       "  color: #f1f1f1;\n",
       "}\n",
       "#T_b0206_row16_col0 {\n",
       "  background-color: #fafdce;\n",
       "  color: #000000;\n",
       "}\n",
       "#T_b0206_row16_col3 {\n",
       "  background-color: #253795;\n",
       "  color: #f1f1f1;\n",
       "}\n",
       "#T_b0206_row17_col0, #T_b0206_row18_col0 {\n",
       "  background-color: #fbfdd0;\n",
       "  color: #000000;\n",
       "}\n",
       "#T_b0206_row17_col3 {\n",
       "  background-color: #234fa1;\n",
       "  color: #f1f1f1;\n",
       "}\n",
       "#T_b0206_row17_col4 {\n",
       "  background-color: #76cabc;\n",
       "  color: #000000;\n",
       "}\n",
       "#T_b0206_row18_col3 {\n",
       "  background-color: #3aaec3;\n",
       "  color: #f1f1f1;\n",
       "}\n",
       "#T_b0206_row18_col4, #T_b0206_row19_col3 {\n",
       "  background-color: #1d90c0;\n",
       "  color: #f1f1f1;\n",
       "}\n",
       "#T_b0206_row19_col4 {\n",
       "  background-color: #f0f9b8;\n",
       "  color: #000000;\n",
       "}\n",
       "#T_b0206_row20_col2, #T_b0206_row24_col0, #T_b0206_row25_col0, #T_b0206_row26_col0, #T_b0206_row27_col0, #T_b0206_row27_col1, #T_b0206_row28_col1 {\n",
       "  background-color: #feffd8;\n",
       "  color: #000000;\n",
       "}\n",
       "#T_b0206_row20_col4 {\n",
       "  background-color: #d9f0b3;\n",
       "  color: #000000;\n",
       "}\n",
       "#T_b0206_row21_col3 {\n",
       "  background-color: #2352a3;\n",
       "  color: #f1f1f1;\n",
       "}\n",
       "#T_b0206_row22_col3 {\n",
       "  background-color: #24479d;\n",
       "  color: #f1f1f1;\n",
       "}\n",
       "#T_b0206_row24_col3 {\n",
       "  background-color: #99d7b8;\n",
       "  color: #000000;\n",
       "}\n",
       "#T_b0206_row25_col3 {\n",
       "  background-color: #d4eeb3;\n",
       "  color: #000000;\n",
       "}\n",
       "#T_b0206_row26_col3 {\n",
       "  background-color: #daf0b3;\n",
       "  color: #000000;\n",
       "}\n",
       "#T_b0206_row27_col4 {\n",
       "  background-color: #dcf1b2;\n",
       "  color: #000000;\n",
       "}\n",
       "#T_b0206_row28_col4 {\n",
       "  background-color: #caeab4;\n",
       "  color: #000000;\n",
       "}\n",
       "#T_b0206_row29_col4 {\n",
       "  background-color: #90d4b9;\n",
       "  color: #000000;\n",
       "}\n",
       "#T_b0206_row30_col3 {\n",
       "  background-color: #2498c1;\n",
       "  color: #f1f1f1;\n",
       "}\n",
       "#T_b0206_row31_col3 {\n",
       "  background-color: #f4fbc1;\n",
       "  color: #000000;\n",
       "}\n",
       "#T_b0206_row34_col3 {\n",
       "  background-color: #5dc0c0;\n",
       "  color: #000000;\n",
       "}\n",
       "#T_b0206_row36_col3 {\n",
       "  background-color: #1b2c80;\n",
       "  color: #f1f1f1;\n",
       "}\n",
       "#T_b0206_row37_col4 {\n",
       "  background-color: #7ecdbb;\n",
       "  color: #000000;\n",
       "}\n",
       "</style>\n",
       "<table id=\"T_b0206\">\n",
       "  <thead>\n",
       "    <tr>\n",
       "      <th class=\"blank level0\" >&nbsp;</th>\n",
       "      <th id=\"T_b0206_level0_col0\" class=\"col_heading level0 col0\" >Confirmed</th>\n",
       "      <th id=\"T_b0206_level0_col1\" class=\"col_heading level0 col1\" >Cured</th>\n",
       "      <th id=\"T_b0206_level0_col2\" class=\"col_heading level0 col2\" >Deaths</th>\n",
       "      <th id=\"T_b0206_level0_col3\" class=\"col_heading level0 col3\" >Recover Rate</th>\n",
       "      <th id=\"T_b0206_level0_col4\" class=\"col_heading level0 col4\" >Mortality Rate</th>\n",
       "    </tr>\n",
       "    <tr>\n",
       "      <th class=\"index_name level0\" >State/UnionTerritory</th>\n",
       "      <th class=\"blank col0\" >&nbsp;</th>\n",
       "      <th class=\"blank col1\" >&nbsp;</th>\n",
       "      <th class=\"blank col2\" >&nbsp;</th>\n",
       "      <th class=\"blank col3\" >&nbsp;</th>\n",
       "      <th class=\"blank col4\" >&nbsp;</th>\n",
       "    </tr>\n",
       "  </thead>\n",
       "  <tbody>\n",
       "    <tr>\n",
       "      <th id=\"T_b0206_level0_row0\" class=\"row_heading level0 row0\" >Maharashtra</th>\n",
       "      <td id=\"T_b0206_row0_col0\" class=\"data row0 col0\" >135796</td>\n",
       "      <td id=\"T_b0206_row0_col1\" class=\"data row0 col1\" >67706</td>\n",
       "      <td id=\"T_b0206_row0_col2\" class=\"data row0 col2\" >6283</td>\n",
       "      <td id=\"T_b0206_row0_col3\" class=\"data row0 col3\" >49.858611</td>\n",
       "      <td id=\"T_b0206_row0_col4\" class=\"data row0 col4\" >4.626793</td>\n",
       "    </tr>\n",
       "    <tr>\n",
       "      <th id=\"T_b0206_level0_row1\" class=\"row_heading level0 row1\" >Delhi</th>\n",
       "      <td id=\"T_b0206_row1_col0\" class=\"data row1 col0\" >62655</td>\n",
       "      <td id=\"T_b0206_row1_col1\" class=\"data row1 col1\" >36602</td>\n",
       "      <td id=\"T_b0206_row1_col2\" class=\"data row1 col2\" >2233</td>\n",
       "      <td id=\"T_b0206_row1_col3\" class=\"data row1 col3\" >58.418323</td>\n",
       "      <td id=\"T_b0206_row1_col4\" class=\"data row1 col4\" >3.563961</td>\n",
       "    </tr>\n",
       "    <tr>\n",
       "      <th id=\"T_b0206_level0_row2\" class=\"row_heading level0 row2\" >Tamil Nadu</th>\n",
       "      <td id=\"T_b0206_row2_col0\" class=\"data row2 col0\" >62087</td>\n",
       "      <td id=\"T_b0206_row2_col1\" class=\"data row2 col1\" >34112</td>\n",
       "      <td id=\"T_b0206_row2_col2\" class=\"data row2 col2\" >794</td>\n",
       "      <td id=\"T_b0206_row2_col3\" class=\"data row2 col3\" >54.942258</td>\n",
       "      <td id=\"T_b0206_row2_col4\" class=\"data row2 col4\" >1.278851</td>\n",
       "    </tr>\n",
       "    <tr>\n",
       "      <th id=\"T_b0206_level0_row3\" class=\"row_heading level0 row3\" >Gujarat</th>\n",
       "      <td id=\"T_b0206_row3_col0\" class=\"data row3 col0\" >27825</td>\n",
       "      <td id=\"T_b0206_row3_col1\" class=\"data row3 col1\" >19909</td>\n",
       "      <td id=\"T_b0206_row3_col2\" class=\"data row3 col2\" >1684</td>\n",
       "      <td id=\"T_b0206_row3_col3\" class=\"data row3 col3\" >71.550764</td>\n",
       "      <td id=\"T_b0206_row3_col4\" class=\"data row3 col4\" >6.052111</td>\n",
       "    </tr>\n",
       "    <tr>\n",
       "      <th id=\"T_b0206_level0_row4\" class=\"row_heading level0 row4\" >Uttar Pradesh</th>\n",
       "      <td id=\"T_b0206_row4_col0\" class=\"data row4 col0\" >18322</td>\n",
       "      <td id=\"T_b0206_row4_col1\" class=\"data row4 col1\" >11601</td>\n",
       "      <td id=\"T_b0206_row4_col2\" class=\"data row4 col2\" >569</td>\n",
       "      <td id=\"T_b0206_row4_col3\" class=\"data row4 col3\" >63.317323</td>\n",
       "      <td id=\"T_b0206_row4_col4\" class=\"data row4 col4\" >3.105556</td>\n",
       "    </tr>\n",
       "    <tr>\n",
       "      <th id=\"T_b0206_level0_row5\" class=\"row_heading level0 row5\" >Rajasthan</th>\n",
       "      <td id=\"T_b0206_row5_col0\" class=\"data row5 col0\" >15232</td>\n",
       "      <td id=\"T_b0206_row5_col1\" class=\"data row5 col1\" >11910</td>\n",
       "      <td id=\"T_b0206_row5_col2\" class=\"data row5 col2\" >356</td>\n",
       "      <td id=\"T_b0206_row5_col3\" class=\"data row5 col3\" >78.190651</td>\n",
       "      <td id=\"T_b0206_row5_col4\" class=\"data row5 col4\" >2.337185</td>\n",
       "    </tr>\n",
       "    <tr>\n",
       "      <th id=\"T_b0206_level0_row6\" class=\"row_heading level0 row6\" >West Bengal</th>\n",
       "      <td id=\"T_b0206_row6_col0\" class=\"data row6 col0\" >14358</td>\n",
       "      <td id=\"T_b0206_row6_col1\" class=\"data row6 col1\" >8687</td>\n",
       "      <td id=\"T_b0206_row6_col2\" class=\"data row6 col2\" >569</td>\n",
       "      <td id=\"T_b0206_row6_col3\" class=\"data row6 col3\" >60.502856</td>\n",
       "      <td id=\"T_b0206_row6_col4\" class=\"data row6 col4\" >3.962947</td>\n",
       "    </tr>\n",
       "    <tr>\n",
       "      <th id=\"T_b0206_level0_row7\" class=\"row_heading level0 row7\" >Madhya Pradesh</th>\n",
       "      <td id=\"T_b0206_row7_col0\" class=\"data row7 col0\" >12078</td>\n",
       "      <td id=\"T_b0206_row7_col1\" class=\"data row7 col1\" >9215</td>\n",
       "      <td id=\"T_b0206_row7_col2\" class=\"data row7 col2\" >521</td>\n",
       "      <td id=\"T_b0206_row7_col3\" class=\"data row7 col3\" >76.295744</td>\n",
       "      <td id=\"T_b0206_row7_col4\" class=\"data row7 col4\" >4.313628</td>\n",
       "    </tr>\n",
       "    <tr>\n",
       "      <th id=\"T_b0206_level0_row8\" class=\"row_heading level0 row8\" >Haryana</th>\n",
       "      <td id=\"T_b0206_row8_col0\" class=\"data row8 col0\" >11025</td>\n",
       "      <td id=\"T_b0206_row8_col1\" class=\"data row8 col1\" >5916</td>\n",
       "      <td id=\"T_b0206_row8_col2\" class=\"data row8 col2\" >169</td>\n",
       "      <td id=\"T_b0206_row8_col3\" class=\"data row8 col3\" >53.659864</td>\n",
       "      <td id=\"T_b0206_row8_col4\" class=\"data row8 col4\" >1.532880</td>\n",
       "    </tr>\n",
       "    <tr>\n",
       "      <th id=\"T_b0206_level0_row9\" class=\"row_heading level0 row9\" >Karnataka</th>\n",
       "      <td id=\"T_b0206_row9_col0\" class=\"data row9 col0\" >9399</td>\n",
       "      <td id=\"T_b0206_row9_col1\" class=\"data row9 col1\" >5730</td>\n",
       "      <td id=\"T_b0206_row9_col2\" class=\"data row9 col2\" >142</td>\n",
       "      <td id=\"T_b0206_row9_col3\" class=\"data row9 col3\" >60.963932</td>\n",
       "      <td id=\"T_b0206_row9_col4\" class=\"data row9 col4\" >1.510799</td>\n",
       "    </tr>\n",
       "    <tr>\n",
       "      <th id=\"T_b0206_level0_row10\" class=\"row_heading level0 row10\" >Andhra Pradesh</th>\n",
       "      <td id=\"T_b0206_row10_col0\" class=\"data row10 col0\" >9372</td>\n",
       "      <td id=\"T_b0206_row10_col1\" class=\"data row10 col1\" >4495</td>\n",
       "      <td id=\"T_b0206_row10_col2\" class=\"data row10 col2\" >111</td>\n",
       "      <td id=\"T_b0206_row10_col3\" class=\"data row10 col3\" >47.962015</td>\n",
       "      <td id=\"T_b0206_row10_col4\" class=\"data row10 col4\" >1.184379</td>\n",
       "    </tr>\n",
       "    <tr>\n",
       "      <th id=\"T_b0206_level0_row11\" class=\"row_heading level0 row11\" >Cases being reassigned to states</th>\n",
       "      <td id=\"T_b0206_row11_col0\" class=\"data row11 col0\" >9265</td>\n",
       "      <td id=\"T_b0206_row11_col1\" class=\"data row11 col1\" >0</td>\n",
       "      <td id=\"T_b0206_row11_col2\" class=\"data row11 col2\" >0</td>\n",
       "      <td id=\"T_b0206_row11_col3\" class=\"data row11 col3\" >0.000000</td>\n",
       "      <td id=\"T_b0206_row11_col4\" class=\"data row11 col4\" >0.000000</td>\n",
       "    </tr>\n",
       "    <tr>\n",
       "      <th id=\"T_b0206_level0_row12\" class=\"row_heading level0 row12\" >Telangana</th>\n",
       "      <td id=\"T_b0206_row12_col0\" class=\"data row12 col0\" >8674</td>\n",
       "      <td id=\"T_b0206_row12_col1\" class=\"data row12 col1\" >4005</td>\n",
       "      <td id=\"T_b0206_row12_col2\" class=\"data row12 col2\" >217</td>\n",
       "      <td id=\"T_b0206_row12_col3\" class=\"data row12 col3\" >46.172469</td>\n",
       "      <td id=\"T_b0206_row12_col4\" class=\"data row12 col4\" >2.501729</td>\n",
       "    </tr>\n",
       "    <tr>\n",
       "      <th id=\"T_b0206_level0_row13\" class=\"row_heading level0 row13\" >Bihar</th>\n",
       "      <td id=\"T_b0206_row13_col0\" class=\"data row13 col0\" >7825</td>\n",
       "      <td id=\"T_b0206_row13_col1\" class=\"data row13 col1\" >5781</td>\n",
       "      <td id=\"T_b0206_row13_col2\" class=\"data row13 col2\" >55</td>\n",
       "      <td id=\"T_b0206_row13_col3\" class=\"data row13 col3\" >73.878594</td>\n",
       "      <td id=\"T_b0206_row13_col4\" class=\"data row13 col4\" >0.702875</td>\n",
       "    </tr>\n",
       "    <tr>\n",
       "      <th id=\"T_b0206_level0_row14\" class=\"row_heading level0 row14\" >Jammu and Kashmir</th>\n",
       "      <td id=\"T_b0206_row14_col0\" class=\"data row14 col0\" >6088</td>\n",
       "      <td id=\"T_b0206_row14_col1\" class=\"data row14 col1\" >3531</td>\n",
       "      <td id=\"T_b0206_row14_col2\" class=\"data row14 col2\" >85</td>\n",
       "      <td id=\"T_b0206_row14_col3\" class=\"data row14 col3\" >57.999343</td>\n",
       "      <td id=\"T_b0206_row14_col4\" class=\"data row14 col4\" >1.396189</td>\n",
       "    </tr>\n",
       "    <tr>\n",
       "      <th id=\"T_b0206_level0_row15\" class=\"row_heading level0 row15\" >Assam</th>\n",
       "      <td id=\"T_b0206_row15_col0\" class=\"data row15 col0\" >5586</td>\n",
       "      <td id=\"T_b0206_row15_col1\" class=\"data row15 col1\" >3521</td>\n",
       "      <td id=\"T_b0206_row15_col2\" class=\"data row15 col2\" >9</td>\n",
       "      <td id=\"T_b0206_row15_col3\" class=\"data row15 col3\" >63.032581</td>\n",
       "      <td id=\"T_b0206_row15_col4\" class=\"data row15 col4\" >0.161117</td>\n",
       "    </tr>\n",
       "    <tr>\n",
       "      <th id=\"T_b0206_level0_row16\" class=\"row_heading level0 row16\" >Odisha</th>\n",
       "      <td id=\"T_b0206_row16_col0\" class=\"data row16 col0\" >5303</td>\n",
       "      <td id=\"T_b0206_row16_col1\" class=\"data row16 col1\" >3863</td>\n",
       "      <td id=\"T_b0206_row16_col2\" class=\"data row16 col2\" >15</td>\n",
       "      <td id=\"T_b0206_row16_col3\" class=\"data row16 col3\" >72.845559</td>\n",
       "      <td id=\"T_b0206_row16_col4\" class=\"data row16 col4\" >0.282859</td>\n",
       "    </tr>\n",
       "    <tr>\n",
       "      <th id=\"T_b0206_level0_row17\" class=\"row_heading level0 row17\" >Punjab</th>\n",
       "      <td id=\"T_b0206_row17_col0\" class=\"data row17 col0\" >4235</td>\n",
       "      <td id=\"T_b0206_row17_col1\" class=\"data row17 col1\" >2825</td>\n",
       "      <td id=\"T_b0206_row17_col2\" class=\"data row17 col2\" >101</td>\n",
       "      <td id=\"T_b0206_row17_col3\" class=\"data row17 col3\" >66.706021</td>\n",
       "      <td id=\"T_b0206_row17_col4\" class=\"data row17 col4\" >2.384888</td>\n",
       "    </tr>\n",
       "    <tr>\n",
       "      <th id=\"T_b0206_level0_row18\" class=\"row_heading level0 row18\" >Telengana</th>\n",
       "      <td id=\"T_b0206_row18_col0\" class=\"data row18 col0\" >4111</td>\n",
       "      <td id=\"T_b0206_row18_col1\" class=\"data row18 col1\" >1817</td>\n",
       "      <td id=\"T_b0206_row18_col2\" class=\"data row18 col2\" >156</td>\n",
       "      <td id=\"T_b0206_row18_col3\" class=\"data row18 col3\" >44.198492</td>\n",
       "      <td id=\"T_b0206_row18_col4\" class=\"data row18 col4\" >3.794697</td>\n",
       "    </tr>\n",
       "    <tr>\n",
       "      <th id=\"T_b0206_level0_row19\" class=\"row_heading level0 row19\" >Kerala</th>\n",
       "      <td id=\"T_b0206_row19_col0\" class=\"data row19 col0\" >3310</td>\n",
       "      <td id=\"T_b0206_row19_col1\" class=\"data row19 col1\" >1749</td>\n",
       "      <td id=\"T_b0206_row19_col2\" class=\"data row19 col2\" >21</td>\n",
       "      <td id=\"T_b0206_row19_col3\" class=\"data row19 col3\" >52.839879</td>\n",
       "      <td id=\"T_b0206_row19_col4\" class=\"data row19 col4\" >0.634441</td>\n",
       "    </tr>\n",
       "    <tr>\n",
       "      <th id=\"T_b0206_level0_row20\" class=\"row_heading level0 row20\" >Uttarakhand</th>\n",
       "      <td id=\"T_b0206_row20_col0\" class=\"data row20 col0\" >2402</td>\n",
       "      <td id=\"T_b0206_row20_col1\" class=\"data row20 col1\" >1521</td>\n",
       "      <td id=\"T_b0206_row20_col2\" class=\"data row20 col2\" >28</td>\n",
       "      <td id=\"T_b0206_row20_col3\" class=\"data row20 col3\" >63.322231</td>\n",
       "      <td id=\"T_b0206_row20_col4\" class=\"data row20 col4\" >1.165695</td>\n",
       "    </tr>\n",
       "    <tr>\n",
       "      <th id=\"T_b0206_level0_row21\" class=\"row_heading level0 row21\" >Chhattisgarh</th>\n",
       "      <td id=\"T_b0206_row21_col0\" class=\"data row21 col0\" >2303</td>\n",
       "      <td id=\"T_b0206_row21_col1\" class=\"data row21 col1\" >1513</td>\n",
       "      <td id=\"T_b0206_row21_col2\" class=\"data row21 col2\" >12</td>\n",
       "      <td id=\"T_b0206_row21_col3\" class=\"data row21 col3\" >65.696917</td>\n",
       "      <td id=\"T_b0206_row21_col4\" class=\"data row21 col4\" >0.521059</td>\n",
       "    </tr>\n",
       "    <tr>\n",
       "      <th id=\"T_b0206_level0_row22\" class=\"row_heading level0 row22\" >Jharkhand</th>\n",
       "      <td id=\"T_b0206_row22_col0\" class=\"data row22 col0\" >2137</td>\n",
       "      <td id=\"T_b0206_row22_col1\" class=\"data row22 col1\" >1469</td>\n",
       "      <td id=\"T_b0206_row22_col2\" class=\"data row22 col2\" >11</td>\n",
       "      <td id=\"T_b0206_row22_col3\" class=\"data row22 col3\" >68.741226</td>\n",
       "      <td id=\"T_b0206_row22_col4\" class=\"data row22 col4\" >0.514740</td>\n",
       "    </tr>\n",
       "    <tr>\n",
       "      <th id=\"T_b0206_level0_row23\" class=\"row_heading level0 row23\" >Tripura</th>\n",
       "      <td id=\"T_b0206_row23_col0\" class=\"data row23 col0\" >1237</td>\n",
       "      <td id=\"T_b0206_row23_col1\" class=\"data row23 col1\" >782</td>\n",
       "      <td id=\"T_b0206_row23_col2\" class=\"data row23 col2\" >1</td>\n",
       "      <td id=\"T_b0206_row23_col3\" class=\"data row23 col3\" >63.217462</td>\n",
       "      <td id=\"T_b0206_row23_col4\" class=\"data row23 col4\" >0.080841</td>\n",
       "    </tr>\n",
       "    <tr>\n",
       "      <th id=\"T_b0206_level0_row24\" class=\"row_heading level0 row24\" >Manipur</th>\n",
       "      <td id=\"T_b0206_row24_col0\" class=\"data row24 col0\" >898</td>\n",
       "      <td id=\"T_b0206_row24_col1\" class=\"data row24 col1\" >250</td>\n",
       "      <td id=\"T_b0206_row24_col2\" class=\"data row24 col2\" >0</td>\n",
       "      <td id=\"T_b0206_row24_col3\" class=\"data row24 col3\" >27.839644</td>\n",
       "      <td id=\"T_b0206_row24_col4\" class=\"data row24 col4\" >0.000000</td>\n",
       "    </tr>\n",
       "    <tr>\n",
       "      <th id=\"T_b0206_level0_row25\" class=\"row_heading level0 row25\" >Goa</th>\n",
       "      <td id=\"T_b0206_row25_col0\" class=\"data row25 col0\" >864</td>\n",
       "      <td id=\"T_b0206_row25_col1\" class=\"data row25 col1\" >152</td>\n",
       "      <td id=\"T_b0206_row25_col2\" class=\"data row25 col2\" >1</td>\n",
       "      <td id=\"T_b0206_row25_col3\" class=\"data row25 col3\" >17.592593</td>\n",
       "      <td id=\"T_b0206_row25_col4\" class=\"data row25 col4\" >0.115741</td>\n",
       "    </tr>\n",
       "    <tr>\n",
       "      <th id=\"T_b0206_level0_row26\" class=\"row_heading level0 row26\" >Ladakh</th>\n",
       "      <td id=\"T_b0206_row26_col0\" class=\"data row26 col0\" >847</td>\n",
       "      <td id=\"T_b0206_row26_col1\" class=\"data row26 col1\" >136</td>\n",
       "      <td id=\"T_b0206_row26_col2\" class=\"data row26 col2\" >1</td>\n",
       "      <td id=\"T_b0206_row26_col3\" class=\"data row26 col3\" >16.056671</td>\n",
       "      <td id=\"T_b0206_row26_col4\" class=\"data row26 col4\" >0.118064</td>\n",
       "    </tr>\n",
       "    <tr>\n",
       "      <th id=\"T_b0206_level0_row27\" class=\"row_heading level0 row27\" >Himachal Pradesh</th>\n",
       "      <td id=\"T_b0206_row27_col0\" class=\"data row27 col0\" >727</td>\n",
       "      <td id=\"T_b0206_row27_col1\" class=\"data row27 col1\" >437</td>\n",
       "      <td id=\"T_b0206_row27_col2\" class=\"data row27 col2\" >8</td>\n",
       "      <td id=\"T_b0206_row27_col3\" class=\"data row27 col3\" >60.110041</td>\n",
       "      <td id=\"T_b0206_row27_col4\" class=\"data row27 col4\" >1.100413</td>\n",
       "    </tr>\n",
       "    <tr>\n",
       "      <th id=\"T_b0206_level0_row28\" class=\"row_heading level0 row28\" >Chandigarh</th>\n",
       "      <td id=\"T_b0206_row28_col0\" class=\"data row28 col0\" >411</td>\n",
       "      <td id=\"T_b0206_row28_col1\" class=\"data row28 col1\" >322</td>\n",
       "      <td id=\"T_b0206_row28_col2\" class=\"data row28 col2\" >6</td>\n",
       "      <td id=\"T_b0206_row28_col3\" class=\"data row28 col3\" >78.345499</td>\n",
       "      <td id=\"T_b0206_row28_col4\" class=\"data row28 col4\" >1.459854</td>\n",
       "    </tr>\n",
       "    <tr>\n",
       "      <th id=\"T_b0206_level0_row29\" class=\"row_heading level0 row29\" >Puducherry</th>\n",
       "      <td id=\"T_b0206_row29_col0\" class=\"data row29 col0\" >383</td>\n",
       "      <td id=\"T_b0206_row29_col1\" class=\"data row29 col1\" >149</td>\n",
       "      <td id=\"T_b0206_row29_col2\" class=\"data row29 col2\" >8</td>\n",
       "      <td id=\"T_b0206_row29_col3\" class=\"data row29 col3\" >38.903394</td>\n",
       "      <td id=\"T_b0206_row29_col4\" class=\"data row29 col4\" >2.088773</td>\n",
       "    </tr>\n",
       "    <tr>\n",
       "      <th id=\"T_b0206_level0_row30\" class=\"row_heading level0 row30\" >Nagaland</th>\n",
       "      <td id=\"T_b0206_row30_col0\" class=\"data row30 col0\" >280</td>\n",
       "      <td id=\"T_b0206_row30_col1\" class=\"data row30 col1\" >141</td>\n",
       "      <td id=\"T_b0206_row30_col2\" class=\"data row30 col2\" >0</td>\n",
       "      <td id=\"T_b0206_row30_col3\" class=\"data row30 col3\" >50.357143</td>\n",
       "      <td id=\"T_b0206_row30_col4\" class=\"data row30 col4\" >0.000000</td>\n",
       "    </tr>\n",
       "    <tr>\n",
       "      <th id=\"T_b0206_level0_row31\" class=\"row_heading level0 row31\" >Mizoram</th>\n",
       "      <td id=\"T_b0206_row31_col0\" class=\"data row31 col0\" >141</td>\n",
       "      <td id=\"T_b0206_row31_col1\" class=\"data row31 col1\" >9</td>\n",
       "      <td id=\"T_b0206_row31_col2\" class=\"data row31 col2\" >0</td>\n",
       "      <td id=\"T_b0206_row31_col3\" class=\"data row31 col3\" >6.382979</td>\n",
       "      <td id=\"T_b0206_row31_col4\" class=\"data row31 col4\" >0.000000</td>\n",
       "    </tr>\n",
       "    <tr>\n",
       "      <th id=\"T_b0206_level0_row32\" class=\"row_heading level0 row32\" >Arunachal Pradesh</th>\n",
       "      <td id=\"T_b0206_row32_col0\" class=\"data row32 col0\" >139</td>\n",
       "      <td id=\"T_b0206_row32_col1\" class=\"data row32 col1\" >21</td>\n",
       "      <td id=\"T_b0206_row32_col2\" class=\"data row32 col2\" >0</td>\n",
       "      <td id=\"T_b0206_row32_col3\" class=\"data row32 col3\" >15.107914</td>\n",
       "      <td id=\"T_b0206_row32_col4\" class=\"data row32 col4\" >0.000000</td>\n",
       "    </tr>\n",
       "    <tr>\n",
       "      <th id=\"T_b0206_level0_row33\" class=\"row_heading level0 row33\" >Dadra and Nagar Haveli and Daman and Diu</th>\n",
       "      <td id=\"T_b0206_row33_col0\" class=\"data row33 col0\" >91</td>\n",
       "      <td id=\"T_b0206_row33_col1\" class=\"data row33 col1\" >27</td>\n",
       "      <td id=\"T_b0206_row33_col2\" class=\"data row33 col2\" >0</td>\n",
       "      <td id=\"T_b0206_row33_col3\" class=\"data row33 col3\" >29.670330</td>\n",
       "      <td id=\"T_b0206_row33_col4\" class=\"data row33 col4\" >0.000000</td>\n",
       "    </tr>\n",
       "    <tr>\n",
       "      <th id=\"T_b0206_level0_row34\" class=\"row_heading level0 row34\" >Sikkim</th>\n",
       "      <td id=\"T_b0206_row34_col0\" class=\"data row34 col0\" >78</td>\n",
       "      <td id=\"T_b0206_row34_col1\" class=\"data row34 col1\" >29</td>\n",
       "      <td id=\"T_b0206_row34_col2\" class=\"data row34 col2\" >0</td>\n",
       "      <td id=\"T_b0206_row34_col3\" class=\"data row34 col3\" >37.179487</td>\n",
       "      <td id=\"T_b0206_row34_col4\" class=\"data row34 col4\" >0.000000</td>\n",
       "    </tr>\n",
       "    <tr>\n",
       "      <th id=\"T_b0206_level0_row35\" class=\"row_heading level0 row35\" >Unassigned</th>\n",
       "      <td id=\"T_b0206_row35_col0\" class=\"data row35 col0\" >77</td>\n",
       "      <td id=\"T_b0206_row35_col1\" class=\"data row35 col1\" >0</td>\n",
       "      <td id=\"T_b0206_row35_col2\" class=\"data row35 col2\" >0</td>\n",
       "      <td id=\"T_b0206_row35_col3\" class=\"data row35 col3\" >0.000000</td>\n",
       "      <td id=\"T_b0206_row35_col4\" class=\"data row35 col4\" >0.000000</td>\n",
       "    </tr>\n",
       "    <tr>\n",
       "      <th id=\"T_b0206_level0_row36\" class=\"row_heading level0 row36\" >Andaman and Nicobar Islands</th>\n",
       "      <td id=\"T_b0206_row36_col0\" class=\"data row36 col0\" >48</td>\n",
       "      <td id=\"T_b0206_row36_col1\" class=\"data row36 col1\" >37</td>\n",
       "      <td id=\"T_b0206_row36_col2\" class=\"data row36 col2\" >0</td>\n",
       "      <td id=\"T_b0206_row36_col3\" class=\"data row36 col3\" >77.083333</td>\n",
       "      <td id=\"T_b0206_row36_col4\" class=\"data row36 col4\" >0.000000</td>\n",
       "    </tr>\n",
       "    <tr>\n",
       "      <th id=\"T_b0206_level0_row37\" class=\"row_heading level0 row37\" >Meghalaya</th>\n",
       "      <td id=\"T_b0206_row37_col0\" class=\"data row37 col0\" >44</td>\n",
       "      <td id=\"T_b0206_row37_col1\" class=\"data row37 col1\" >37</td>\n",
       "      <td id=\"T_b0206_row37_col2\" class=\"data row37 col2\" >1</td>\n",
       "      <td id=\"T_b0206_row37_col3\" class=\"data row37 col3\" >84.090909</td>\n",
       "      <td id=\"T_b0206_row37_col4\" class=\"data row37 col4\" >2.272727</td>\n",
       "    </tr>\n",
       "    <tr>\n",
       "      <th id=\"T_b0206_level0_row38\" class=\"row_heading level0 row38\" >Dadar Nagar Haveli</th>\n",
       "      <td id=\"T_b0206_row38_col0\" class=\"data row38 col0\" >26</td>\n",
       "      <td id=\"T_b0206_row38_col1\" class=\"data row38 col1\" >2</td>\n",
       "      <td id=\"T_b0206_row38_col2\" class=\"data row38 col2\" >0</td>\n",
       "      <td id=\"T_b0206_row38_col3\" class=\"data row38 col3\" >7.692308</td>\n",
       "      <td id=\"T_b0206_row38_col4\" class=\"data row38 col4\" >0.000000</td>\n",
       "    </tr>\n",
       "    <tr>\n",
       "      <th id=\"T_b0206_level0_row39\" class=\"row_heading level0 row39\" >Daman & Diu</th>\n",
       "      <td id=\"T_b0206_row39_col0\" class=\"data row39 col0\" >2</td>\n",
       "      <td id=\"T_b0206_row39_col1\" class=\"data row39 col1\" >0</td>\n",
       "      <td id=\"T_b0206_row39_col2\" class=\"data row39 col2\" >0</td>\n",
       "      <td id=\"T_b0206_row39_col3\" class=\"data row39 col3\" >0.000000</td>\n",
       "      <td id=\"T_b0206_row39_col4\" class=\"data row39 col4\" >0.000000</td>\n",
       "    </tr>\n",
       "  </tbody>\n",
       "</table>\n"
      ],
      "text/plain": [
       "<pandas.io.formats.style.Styler at 0x24ec420ad90>"
      ]
     },
     "execution_count": 15,
     "metadata": {},
     "output_type": "execute_result"
    }
   ],
   "source": [
    "statewise.style.background_gradient(cmap='YlGnBu')"
   ]
  },
  {
   "cell_type": "code",
   "execution_count": 16,
   "id": "9c9981f1",
   "metadata": {},
   "outputs": [],
   "source": [
    "#Top 10 Active Cases by states\n",
    "\n",
    "Top_10_Cases = covid_df.groupby(by='State/UnionTerritory').max()[['Active_Cases', 'Date']].sort_values(by=['Active_Cases'], ascending=False).reset_index()"
   ]
  },
  {
   "cell_type": "code",
   "execution_count": 17,
   "id": "51eecfbd",
   "metadata": {},
   "outputs": [
    {
     "data": {
      "text/plain": [
       "<Figure size 1152x648 with 0 Axes>"
      ]
     },
     "metadata": {},
     "output_type": "display_data"
    }
   ],
   "source": [
    "fig=plt.figure(figsize=(16,9))"
   ]
  },
  {
   "cell_type": "code",
   "execution_count": 18,
   "id": "187d1f80",
   "metadata": {},
   "outputs": [
    {
     "data": {
      "text/plain": [
       "Text(0.5, 1.0, 'Top 10 States with Most Active Cases in India')"
      ]
     },
     "execution_count": 18,
     "metadata": {},
     "output_type": "execute_result"
    },
    {
     "data": {
      "image/png": "[encoded data removed]",
      "text/plain": [
       "<Figure size 432x288 with 1 Axes>"
      ]
     },
     "metadata": {
      "needs_background": "light"
     },
     "output_type": "display_data"
    }
   ],
   "source": [
    "plt.title(\"Top 10 States with Most Active Cases in India\", size=20)"
   ]
  },
  {
   "cell_type": "code",
   "execution_count": 19,
   "id": "556e71c8",
   "metadata": {},
   "outputs": [
    {
     "data": {
      "image/png": "[encoded data removed]",
      "text/plain": [
       "<Figure size 432x288 with 1 Axes>"
      ]
     },
     "metadata": {
      "needs_background": "light"
     },
     "output_type": "display_data"
    }
   ],
   "source": [
    "axis= sns.barplot(data = Top_10_Cases.iloc[:10], y='Active_Cases', x=\"State/UnionTerritory\", linewidth=2, edgecolor='green')"
   ]
  },
  {
   "cell_type": "code",
   "execution_count": 20,
   "id": "4426abbb",
   "metadata": {},
   "outputs": [
    {
     "data": {
      "image/png": "[encoded data removed]",
      "text/plain": [
       "<Figure size 1296x648 with 1 Axes>"
      ]
     },
     "metadata": {
      "needs_background": "light"
     },
     "output_type": "display_data"
    }
   ],
   "source": [
    "#Top 10 Active Cases by states\n",
    "\n",
    "Top_10_Cases = covid_df.groupby(by='State/UnionTerritory').max()[['Active_Cases', 'Date']].sort_values(by=['Active_Cases'], ascending=False).reset_index()\n",
    "fig=plt.figure(figsize=(18,9))\n",
    "plt.title(\"Top 10 States with Most Active Covid Cases in India\", size=25)\n",
    "axis= sns.barplot(data = Top_10_Cases.iloc[:10], y='Active_Cases', x=\"State/UnionTerritory\", linewidth=2, edgecolor='green')\n",
    "\n",
    "plt.xlabel('States', size=16)\n",
    "plt.ylabel('Total Active Cases', size=16)\n",
    "plt.xticks(rotation=70)\n",
    "plt.show()"
   ]
  },
  {
   "cell_type": "code",
   "execution_count": 21,
   "id": "524e8a26",
   "metadata": {},
   "outputs": [
    {
     "data": {
      "image/png": "[encoded data removed]",
      "text/plain": [
       "<Figure size 1296x648 with 1 Axes>"
      ]
     },
     "metadata": {
      "needs_background": "light"
     },
     "output_type": "display_data"
    }
   ],
   "source": [
    "# Top Highest Deaths States\n",
    "\n",
    "Top_10_death_states = covid_df.groupby(by = 'State/UnionTerritory').max()[['Deaths', 'Date']].sort_values(by = ['Deaths'], ascending=False).reset_index()\n",
    "fig=plt.figure(figsize=(18,9))\n",
    "plt.title('Top 10 Most Deaths States in India', size=20)\n",
    "axis= sns.barplot(data = Top_10_death_states.iloc[:12], y='Deaths', x=\"State/UnionTerritory\", linewidth=2, edgecolor='yellow')\n",
    "\n",
    "plt.xlabel(\"States\", size=16)\n",
    "plt.ylabel(\"Total Deaths\", size =16)\n",
    "plt.xticks(rotation = 50)\n",
    "plt.show()"
   ]
  },
  {
   "cell_type": "code",
   "execution_count": 22,
   "id": "34d45775",
   "metadata": {},
   "outputs": [
    {
     "data": {
      "image/png": "[encoded data removed]",
      "text/plain": [
       "<Figure size 1440x864 with 1 Axes>"
      ]
     },
     "metadata": {
      "needs_background": "light"
     },
     "output_type": "display_data"
    }
   ],
   "source": [
    "\n",
    "\n",
    "fig = plt.figure(figsize=(20,12))\n",
    "ax = sns.lineplot(data = covid_df[covid_df['State/UnionTerritory'].isin(['Maharashtra','Karnataka','Kerela','Tamil Nadu','Uttar Pradesh'])],x='Date',y='Active_Cases',hue = 'State/UnionTerritory')\n",
    "\n",
    "ax.set_title(\"Top 5 Affected States in India\",size = 16)\n",
    "plt.xlabel(\"Date\", size=15)\n",
    "plt.ylabel(\"Active Cases\" ,size=15)\n",
    "plt.xticks(rotation = 50)\n",
    "plt.rcParams[\"xtick.labelsize\"] = 7\n",
    "plt.show()\n"
   ]
  },
  {
   "cell_type": "code",
   "execution_count": 23,
   "id": "e8d238d8",
   "metadata": {},
   "outputs": [
    {
     "data": {
      "text/html": [
       "<div>\n",
       "<style scoped>\n",
       "    .dataframe tbody tr th:only-of-type {\n",
       "        vertical-align: middle;\n",
       "    }\n",
       "\n",
       "    .dataframe tbody tr th {\n",
       "        vertical-align: top;\n",
       "    }\n",
       "\n",
       "    .dataframe thead th {\n",
       "        text-align: right;\n",
       "    }\n",
       "</style>\n",
       "<table border=\"1\" class=\"dataframe\">\n",
       "  <thead>\n",
       "    <tr style=\"text-align: right;\">\n",
       "      <th></th>\n",
       "      <th>Updated On</th>\n",
       "      <th>State</th>\n",
       "      <th>Total Doses Administered</th>\n",
       "      <th>Sessions</th>\n",
       "      <th>Sites</th>\n",
       "      <th>First Dose Administered</th>\n",
       "      <th>Second Dose Administered</th>\n",
       "      <th>Male (Doses Administered)</th>\n",
       "      <th>Female (Doses Administered)</th>\n",
       "      <th>Transgender (Doses Administered)</th>\n",
       "      <th>...</th>\n",
       "      <th>18-44 Years (Doses Administered)</th>\n",
       "      <th>45-60 Years (Doses Administered)</th>\n",
       "      <th>60+ Years (Doses Administered)</th>\n",
       "      <th>18-44 Years(Individuals Vaccinated)</th>\n",
       "      <th>45-60 Years(Individuals Vaccinated)</th>\n",
       "      <th>60+ Years(Individuals Vaccinated)</th>\n",
       "      <th>Male(Individuals Vaccinated)</th>\n",
       "      <th>Female(Individuals Vaccinated)</th>\n",
       "      <th>Transgender(Individuals Vaccinated)</th>\n",
       "      <th>Total Individuals Vaccinated</th>\n",
       "    </tr>\n",
       "  </thead>\n",
       "  <tbody>\n",
       "    <tr>\n",
       "      <th>0</th>\n",
       "      <td>16/01/2021</td>\n",
       "      <td>India</td>\n",
       "      <td>48276.0</td>\n",
       "      <td>3455.0</td>\n",
       "      <td>2957.0</td>\n",
       "      <td>48276.0</td>\n",
       "      <td>0.0</td>\n",
       "      <td>NaN</td>\n",
       "      <td>NaN</td>\n",
       "      <td>NaN</td>\n",
       "      <td>...</td>\n",
       "      <td>NaN</td>\n",
       "      <td>NaN</td>\n",
       "      <td>NaN</td>\n",
       "      <td>NaN</td>\n",
       "      <td>NaN</td>\n",
       "      <td>NaN</td>\n",
       "      <td>23757.0</td>\n",
       "      <td>24517.0</td>\n",
       "      <td>2.0</td>\n",
       "      <td>48276.0</td>\n",
       "    </tr>\n",
       "    <tr>\n",
       "      <th>1</th>\n",
       "      <td>17/01/2021</td>\n",
       "      <td>India</td>\n",
       "      <td>58604.0</td>\n",
       "      <td>8532.0</td>\n",
       "      <td>4954.0</td>\n",
       "      <td>58604.0</td>\n",
       "      <td>0.0</td>\n",
       "      <td>NaN</td>\n",
       "      <td>NaN</td>\n",
       "      <td>NaN</td>\n",
       "      <td>...</td>\n",
       "      <td>NaN</td>\n",
       "      <td>NaN</td>\n",
       "      <td>NaN</td>\n",
       "      <td>NaN</td>\n",
       "      <td>NaN</td>\n",
       "      <td>NaN</td>\n",
       "      <td>27348.0</td>\n",
       "      <td>31252.0</td>\n",
       "      <td>4.0</td>\n",
       "      <td>58604.0</td>\n",
       "    </tr>\n",
       "    <tr>\n",
       "      <th>2</th>\n",
       "      <td>18/01/2021</td>\n",
       "      <td>India</td>\n",
       "      <td>99449.0</td>\n",
       "      <td>13611.0</td>\n",
       "      <td>6583.0</td>\n",
       "      <td>99449.0</td>\n",
       "      <td>0.0</td>\n",
       "      <td>NaN</td>\n",
       "      <td>NaN</td>\n",
       "      <td>NaN</td>\n",
       "      <td>...</td>\n",
       "      <td>NaN</td>\n",
       "      <td>NaN</td>\n",
       "      <td>NaN</td>\n",
       "      <td>NaN</td>\n",
       "      <td>NaN</td>\n",
       "      <td>NaN</td>\n",
       "      <td>41361.0</td>\n",
       "      <td>58083.0</td>\n",
       "      <td>5.0</td>\n",
       "      <td>99449.0</td>\n",
       "    </tr>\n",
       "    <tr>\n",
       "      <th>3</th>\n",
       "      <td>19/01/2021</td>\n",
       "      <td>India</td>\n",
       "      <td>195525.0</td>\n",
       "      <td>17855.0</td>\n",
       "      <td>7951.0</td>\n",
       "      <td>195525.0</td>\n",
       "      <td>0.0</td>\n",
       "      <td>NaN</td>\n",
       "      <td>NaN</td>\n",
       "      <td>NaN</td>\n",
       "      <td>...</td>\n",
       "      <td>NaN</td>\n",
       "      <td>NaN</td>\n",
       "      <td>NaN</td>\n",
       "      <td>NaN</td>\n",
       "      <td>NaN</td>\n",
       "      <td>NaN</td>\n",
       "      <td>81901.0</td>\n",
       "      <td>113613.0</td>\n",
       "      <td>11.0</td>\n",
       "      <td>195525.0</td>\n",
       "    </tr>\n",
       "    <tr>\n",
       "      <th>4</th>\n",
       "      <td>20/01/2021</td>\n",
       "      <td>India</td>\n",
       "      <td>251280.0</td>\n",
       "      <td>25472.0</td>\n",
       "      <td>10504.0</td>\n",
       "      <td>251280.0</td>\n",
       "      <td>0.0</td>\n",
       "      <td>NaN</td>\n",
       "      <td>NaN</td>\n",
       "      <td>NaN</td>\n",
       "      <td>...</td>\n",
       "      <td>NaN</td>\n",
       "      <td>NaN</td>\n",
       "      <td>NaN</td>\n",
       "      <td>NaN</td>\n",
       "      <td>NaN</td>\n",
       "      <td>NaN</td>\n",
       "      <td>98111.0</td>\n",
       "      <td>153145.0</td>\n",
       "      <td>24.0</td>\n",
       "      <td>251280.0</td>\n",
       "    </tr>\n",
       "  </tbody>\n",
       "</table>\n",
       "<p>5 rows × 24 columns</p>\n",
       "</div>"
      ],
      "text/plain": [
       "   Updated On  State  Total Doses Administered  Sessions   Sites   \\\n",
       "0  16/01/2021  India                   48276.0    3455.0   2957.0   \n",
       "1  17/01/2021  India                   58604.0    8532.0   4954.0   \n",
       "2  18/01/2021  India                   99449.0   13611.0   6583.0   \n",
       "3  19/01/2021  India                  195525.0   17855.0   7951.0   \n",
       "4  20/01/2021  India                  251280.0   25472.0  10504.0   \n",
       "\n",
       "   First Dose Administered  Second Dose Administered  \\\n",
       "0                  48276.0                       0.0   \n",
       "1                  58604.0                       0.0   \n",
       "2                  99449.0                       0.0   \n",
       "3                 195525.0                       0.0   \n",
       "4                 251280.0                       0.0   \n",
       "\n",
       "   Male (Doses Administered)  Female (Doses Administered)  \\\n",
       "0                        NaN                          NaN   \n",
       "1                        NaN                          NaN   \n",
       "2                        NaN                          NaN   \n",
       "3                        NaN                          NaN   \n",
       "4                        NaN                          NaN   \n",
       "\n",
       "   Transgender (Doses Administered)  ...  18-44 Years (Doses Administered)  \\\n",
       "0                               NaN  ...                               NaN   \n",
       "1                               NaN  ...                               NaN   \n",
       "2                               NaN  ...                               NaN   \n",
       "3                               NaN  ...                               NaN   \n",
       "4                               NaN  ...                               NaN   \n",
       "\n",
       "   45-60 Years (Doses Administered)  60+ Years (Doses Administered)  \\\n",
       "0                               NaN                             NaN   \n",
       "1                               NaN                             NaN   \n",
       "2                               NaN                             NaN   \n",
       "3                               NaN                             NaN   \n",
       "4                               NaN                             NaN   \n",
       "\n",
       "   18-44 Years(Individuals Vaccinated)  45-60 Years(Individuals Vaccinated)  \\\n",
       "0                                  NaN                                  NaN   \n",
       "1                                  NaN                                  NaN   \n",
       "2                                  NaN                                  NaN   \n",
       "3                                  NaN                                  NaN   \n",
       "4                                  NaN                                  NaN   \n",
       "\n",
       "   60+ Years(Individuals Vaccinated)  Male(Individuals Vaccinated)  \\\n",
       "0                                NaN                       23757.0   \n",
       "1                                NaN                       27348.0   \n",
       "2                                NaN                       41361.0   \n",
       "3                                NaN                       81901.0   \n",
       "4                                NaN                       98111.0   \n",
       "\n",
       "   Female(Individuals Vaccinated)  Transgender(Individuals Vaccinated)  \\\n",
       "0                         24517.0                                  2.0   \n",
       "1                         31252.0                                  4.0   \n",
       "2                         58083.0                                  5.0   \n",
       "3                        113613.0                                 11.0   \n",
       "4                        153145.0                                 24.0   \n",
       "\n",
       "   Total Individuals Vaccinated  \n",
       "0                       48276.0  \n",
       "1                       58604.0  \n",
       "2                       99449.0  \n",
       "3                      195525.0  \n",
       "4                      251280.0  \n",
       "\n",
       "[5 rows x 24 columns]"
      ]
     },
     "execution_count": 23,
     "metadata": {},
     "output_type": "execute_result"
    }
   ],
   "source": [
    "#vaccine data\n",
    "\n",
    "vaccine_df.head()"
   ]
  },
  {
   "cell_type": "code",
   "execution_count": 24,
   "id": "bea0751f",
   "metadata": {},
   "outputs": [],
   "source": [
    "vaccine_df.rename(columns={'Updated On' : 'Vaccine Date'}, inplace = True)"
   ]
  },
  {
   "cell_type": "code",
   "execution_count": 25,
   "id": "d863fe9f",
   "metadata": {},
   "outputs": [
    {
     "data": {
      "text/html": [
       "<div>\n",
       "<style scoped>\n",
       "    .dataframe tbody tr th:only-of-type {\n",
       "        vertical-align: middle;\n",
       "    }\n",
       "\n",
       "    .dataframe tbody tr th {\n",
       "        vertical-align: top;\n",
       "    }\n",
       "\n",
       "    .dataframe thead th {\n",
       "        text-align: right;\n",
       "    }\n",
       "</style>\n",
       "<table border=\"1\" class=\"dataframe\">\n",
       "  <thead>\n",
       "    <tr style=\"text-align: right;\">\n",
       "      <th></th>\n",
       "      <th>Vaccine Date</th>\n",
       "      <th>State</th>\n",
       "      <th>Total Doses Administered</th>\n",
       "      <th>Sessions</th>\n",
       "      <th>Sites</th>\n",
       "      <th>First Dose Administered</th>\n",
       "      <th>Second Dose Administered</th>\n",
       "      <th>Male (Doses Administered)</th>\n",
       "      <th>Female (Doses Administered)</th>\n",
       "      <th>Transgender (Doses Administered)</th>\n",
       "      <th>...</th>\n",
       "      <th>18-44 Years (Doses Administered)</th>\n",
       "      <th>45-60 Years (Doses Administered)</th>\n",
       "      <th>60+ Years (Doses Administered)</th>\n",
       "      <th>18-44 Years(Individuals Vaccinated)</th>\n",
       "      <th>45-60 Years(Individuals Vaccinated)</th>\n",
       "      <th>60+ Years(Individuals Vaccinated)</th>\n",
       "      <th>Male(Individuals Vaccinated)</th>\n",
       "      <th>Female(Individuals Vaccinated)</th>\n",
       "      <th>Transgender(Individuals Vaccinated)</th>\n",
       "      <th>Total Individuals Vaccinated</th>\n",
       "    </tr>\n",
       "  </thead>\n",
       "  <tbody>\n",
       "    <tr>\n",
       "      <th>0</th>\n",
       "      <td>16/01/2021</td>\n",
       "      <td>India</td>\n",
       "      <td>48276.0</td>\n",
       "      <td>3455.0</td>\n",
       "      <td>2957.0</td>\n",
       "      <td>48276.0</td>\n",
       "      <td>0.0</td>\n",
       "      <td>NaN</td>\n",
       "      <td>NaN</td>\n",
       "      <td>NaN</td>\n",
       "      <td>...</td>\n",
       "      <td>NaN</td>\n",
       "      <td>NaN</td>\n",
       "      <td>NaN</td>\n",
       "      <td>NaN</td>\n",
       "      <td>NaN</td>\n",
       "      <td>NaN</td>\n",
       "      <td>23757.0</td>\n",
       "      <td>24517.0</td>\n",
       "      <td>2.0</td>\n",
       "      <td>48276.0</td>\n",
       "    </tr>\n",
       "    <tr>\n",
       "      <th>1</th>\n",
       "      <td>17/01/2021</td>\n",
       "      <td>India</td>\n",
       "      <td>58604.0</td>\n",
       "      <td>8532.0</td>\n",
       "      <td>4954.0</td>\n",
       "      <td>58604.0</td>\n",
       "      <td>0.0</td>\n",
       "      <td>NaN</td>\n",
       "      <td>NaN</td>\n",
       "      <td>NaN</td>\n",
       "      <td>...</td>\n",
       "      <td>NaN</td>\n",
       "      <td>NaN</td>\n",
       "      <td>NaN</td>\n",
       "      <td>NaN</td>\n",
       "      <td>NaN</td>\n",
       "      <td>NaN</td>\n",
       "      <td>27348.0</td>\n",
       "      <td>31252.0</td>\n",
       "      <td>4.0</td>\n",
       "      <td>58604.0</td>\n",
       "    </tr>\n",
       "    <tr>\n",
       "      <th>2</th>\n",
       "      <td>18/01/2021</td>\n",
       "      <td>India</td>\n",
       "      <td>99449.0</td>\n",
       "      <td>13611.0</td>\n",
       "      <td>6583.0</td>\n",
       "      <td>99449.0</td>\n",
       "      <td>0.0</td>\n",
       "      <td>NaN</td>\n",
       "      <td>NaN</td>\n",
       "      <td>NaN</td>\n",
       "      <td>...</td>\n",
       "      <td>NaN</td>\n",
       "      <td>NaN</td>\n",
       "      <td>NaN</td>\n",
       "      <td>NaN</td>\n",
       "      <td>NaN</td>\n",
       "      <td>NaN</td>\n",
       "      <td>41361.0</td>\n",
       "      <td>58083.0</td>\n",
       "      <td>5.0</td>\n",
       "      <td>99449.0</td>\n",
       "    </tr>\n",
       "    <tr>\n",
       "      <th>3</th>\n",
       "      <td>19/01/2021</td>\n",
       "      <td>India</td>\n",
       "      <td>195525.0</td>\n",
       "      <td>17855.0</td>\n",
       "      <td>7951.0</td>\n",
       "      <td>195525.0</td>\n",
       "      <td>0.0</td>\n",
       "      <td>NaN</td>\n",
       "      <td>NaN</td>\n",
       "      <td>NaN</td>\n",
       "      <td>...</td>\n",
       "      <td>NaN</td>\n",
       "      <td>NaN</td>\n",
       "      <td>NaN</td>\n",
       "      <td>NaN</td>\n",
       "      <td>NaN</td>\n",
       "      <td>NaN</td>\n",
       "      <td>81901.0</td>\n",
       "      <td>113613.0</td>\n",
       "      <td>11.0</td>\n",
       "      <td>195525.0</td>\n",
       "    </tr>\n",
       "    <tr>\n",
       "      <th>4</th>\n",
       "      <td>20/01/2021</td>\n",
       "      <td>India</td>\n",
       "      <td>251280.0</td>\n",
       "      <td>25472.0</td>\n",
       "      <td>10504.0</td>\n",
       "      <td>251280.0</td>\n",
       "      <td>0.0</td>\n",
       "      <td>NaN</td>\n",
       "      <td>NaN</td>\n",
       "      <td>NaN</td>\n",
       "      <td>...</td>\n",
       "      <td>NaN</td>\n",
       "      <td>NaN</td>\n",
       "      <td>NaN</td>\n",
       "      <td>NaN</td>\n",
       "      <td>NaN</td>\n",
       "      <td>NaN</td>\n",
       "      <td>98111.0</td>\n",
       "      <td>153145.0</td>\n",
       "      <td>24.0</td>\n",
       "      <td>251280.0</td>\n",
       "    </tr>\n",
       "  </tbody>\n",
       "</table>\n",
       "<p>5 rows × 24 columns</p>\n",
       "</div>"
      ],
      "text/plain": [
       "  Vaccine Date  State  Total Doses Administered  Sessions   Sites   \\\n",
       "0   16/01/2021  India                   48276.0    3455.0   2957.0   \n",
       "1   17/01/2021  India                   58604.0    8532.0   4954.0   \n",
       "2   18/01/2021  India                   99449.0   13611.0   6583.0   \n",
       "3   19/01/2021  India                  195525.0   17855.0   7951.0   \n",
       "4   20/01/2021  India                  251280.0   25472.0  10504.0   \n",
       "\n",
       "   First Dose Administered  Second Dose Administered  \\\n",
       "0                  48276.0                       0.0   \n",
       "1                  58604.0                       0.0   \n",
       "2                  99449.0                       0.0   \n",
       "3                 195525.0                       0.0   \n",
       "4                 251280.0                       0.0   \n",
       "\n",
       "   Male (Doses Administered)  Female (Doses Administered)  \\\n",
       "0                        NaN                          NaN   \n",
       "1                        NaN                          NaN   \n",
       "2                        NaN                          NaN   \n",
       "3                        NaN                          NaN   \n",
       "4                        NaN                          NaN   \n",
       "\n",
       "   Transgender (Doses Administered)  ...  18-44 Years (Doses Administered)  \\\n",
       "0                               NaN  ...                               NaN   \n",
       "1                               NaN  ...                               NaN   \n",
       "2                               NaN  ...                               NaN   \n",
       "3                               NaN  ...                               NaN   \n",
       "4                               NaN  ...                               NaN   \n",
       "\n",
       "   45-60 Years (Doses Administered)  60+ Years (Doses Administered)  \\\n",
       "0                               NaN                             NaN   \n",
       "1                               NaN                             NaN   \n",
       "2                               NaN                             NaN   \n",
       "3                               NaN                             NaN   \n",
       "4                               NaN                             NaN   \n",
       "\n",
       "   18-44 Years(Individuals Vaccinated)  45-60 Years(Individuals Vaccinated)  \\\n",
       "0                                  NaN                                  NaN   \n",
       "1                                  NaN                                  NaN   \n",
       "2                                  NaN                                  NaN   \n",
       "3                                  NaN                                  NaN   \n",
       "4                                  NaN                                  NaN   \n",
       "\n",
       "   60+ Years(Individuals Vaccinated)  Male(Individuals Vaccinated)  \\\n",
       "0                                NaN                       23757.0   \n",
       "1                                NaN                       27348.0   \n",
       "2                                NaN                       41361.0   \n",
       "3                                NaN                       81901.0   \n",
       "4                                NaN                       98111.0   \n",
       "\n",
       "   Female(Individuals Vaccinated)  Transgender(Individuals Vaccinated)  \\\n",
       "0                         24517.0                                  2.0   \n",
       "1                         31252.0                                  4.0   \n",
       "2                         58083.0                                  5.0   \n",
       "3                        113613.0                                 11.0   \n",
       "4                        153145.0                                 24.0   \n",
       "\n",
       "   Total Individuals Vaccinated  \n",
       "0                       48276.0  \n",
       "1                       58604.0  \n",
       "2                       99449.0  \n",
       "3                      195525.0  \n",
       "4                      251280.0  \n",
       "\n",
       "[5 rows x 24 columns]"
      ]
     },
     "execution_count": 25,
     "metadata": {},
     "output_type": "execute_result"
    }
   ],
   "source": [
    "vaccine_df.head()"
   ]
  },
  {
   "cell_type": "code",
   "execution_count": 26,
   "id": "15b27af0",
   "metadata": {},
   "outputs": [
    {
     "name": "stdout",
     "output_type": "stream",
     "text": [
      "<class 'pandas.core.frame.DataFrame'>\n",
      "RangeIndex: 7845 entries, 0 to 7844\n",
      "Data columns (total 24 columns):\n",
      " #   Column                               Non-Null Count  Dtype  \n",
      "---  ------                               --------------  -----  \n",
      " 0   Vaccine Date                         7845 non-null   object \n",
      " 1   State                                7845 non-null   object \n",
      " 2   Total Doses Administered             7621 non-null   float64\n",
      " 3   Sessions                             7621 non-null   float64\n",
      " 4    Sites                               7621 non-null   float64\n",
      " 5   First Dose Administered              7621 non-null   float64\n",
      " 6   Second Dose Administered             7621 non-null   float64\n",
      " 7   Male (Doses Administered)            7461 non-null   float64\n",
      " 8   Female (Doses Administered)          7461 non-null   float64\n",
      " 9   Transgender (Doses Administered)     7461 non-null   float64\n",
      " 10   Covaxin (Doses Administered)        7621 non-null   float64\n",
      " 11  CoviShield (Doses Administered)      7621 non-null   float64\n",
      " 12  Sputnik V (Doses Administered)       2995 non-null   float64\n",
      " 13  AEFI                                 5438 non-null   float64\n",
      " 14  18-44 Years (Doses Administered)     1702 non-null   float64\n",
      " 15  45-60 Years (Doses Administered)     1702 non-null   float64\n",
      " 16  60+ Years (Doses Administered)       1702 non-null   float64\n",
      " 17  18-44 Years(Individuals Vaccinated)  3733 non-null   float64\n",
      " 18  45-60 Years(Individuals Vaccinated)  3734 non-null   float64\n",
      " 19  60+ Years(Individuals Vaccinated)    3734 non-null   float64\n",
      " 20  Male(Individuals Vaccinated)         160 non-null    float64\n",
      " 21  Female(Individuals Vaccinated)       160 non-null    float64\n",
      " 22  Transgender(Individuals Vaccinated)  160 non-null    float64\n",
      " 23  Total Individuals Vaccinated         5919 non-null   float64\n",
      "dtypes: float64(22), object(2)\n",
      "memory usage: 1.4+ MB\n"
     ]
    }
   ],
   "source": [
    "vaccine_df.info()"
   ]
  },
  {
   "cell_type": "code",
   "execution_count": 27,
   "id": "d136f424",
   "metadata": {},
   "outputs": [
    {
     "data": {
      "text/plain": [
       "Vaccine Date                              0\n",
       "State                                     0\n",
       "Total Doses Administered                224\n",
       "Sessions                                224\n",
       " Sites                                  224\n",
       "First Dose Administered                 224\n",
       "Second Dose Administered                224\n",
       "Male (Doses Administered)               384\n",
       "Female (Doses Administered)             384\n",
       "Transgender (Doses Administered)        384\n",
       " Covaxin (Doses Administered)           224\n",
       "CoviShield (Doses Administered)         224\n",
       "Sputnik V (Doses Administered)         4850\n",
       "AEFI                                   2407\n",
       "18-44 Years (Doses Administered)       6143\n",
       "45-60 Years (Doses Administered)       6143\n",
       "60+ Years (Doses Administered)         6143\n",
       "18-44 Years(Individuals Vaccinated)    4112\n",
       "45-60 Years(Individuals Vaccinated)    4111\n",
       "60+ Years(Individuals Vaccinated)      4111\n",
       "Male(Individuals Vaccinated)           7685\n",
       "Female(Individuals Vaccinated)         7685\n",
       "Transgender(Individuals Vaccinated)    7685\n",
       "Total Individuals Vaccinated           1926\n",
       "dtype: int64"
      ]
     },
     "execution_count": 27,
     "metadata": {},
     "output_type": "execute_result"
    }
   ],
   "source": [
    "vaccine_df.isnull().sum()"
   ]
  },
  {
   "cell_type": "code",
   "execution_count": 46,
   "id": "fca9275c",
   "metadata": {},
   "outputs": [
    {
     "ename": "KeyError",
     "evalue": "\"['Sputnik V (Doses Administered)', 'AEFI', '18-44 Years (Doses Administered)', '45-60 Years (Doses Administered)', '60+ Years (Doses Administered)'] not found in axis\"",
     "output_type": "error",
     "traceback": [
      "\u001b[1;31m---------------------------------------------------------------------------\u001b[0m",
      "\u001b[1;31mKeyError\u001b[0m                                  Traceback (most recent call last)",
      "Input \u001b[1;32mIn [46]\u001b[0m, in \u001b[0;36m<cell line: 1>\u001b[1;34m()\u001b[0m\n\u001b[1;32m----> 1\u001b[0m vaccine_df \u001b[38;5;241m=\u001b[39m \u001b[43mvaccine_df\u001b[49m\u001b[38;5;241;43m.\u001b[39;49m\u001b[43mdrop\u001b[49m\u001b[43m(\u001b[49m\u001b[43mcolumns\u001b[49m\u001b[43m \u001b[49m\u001b[38;5;241;43m=\u001b[39;49m\u001b[43m \u001b[49m\u001b[43m[\u001b[49m\u001b[38;5;124;43m'\u001b[39;49m\u001b[38;5;124;43mSputnik V (Doses Administered)\u001b[39;49m\u001b[38;5;124;43m'\u001b[39;49m\u001b[43m,\u001b[49m\u001b[43m \u001b[49m\u001b[38;5;124;43m'\u001b[39;49m\u001b[38;5;124;43mAEFI\u001b[39;49m\u001b[38;5;124;43m'\u001b[39;49m\u001b[43m,\u001b[49m\u001b[43m \u001b[49m\u001b[38;5;124;43m'\u001b[39;49m\u001b[38;5;124;43m18-44 Years (Doses Administered)\u001b[39;49m\u001b[38;5;124;43m'\u001b[39;49m\u001b[43m,\u001b[49m\u001b[43m \u001b[49m\u001b[38;5;124;43m'\u001b[39;49m\u001b[38;5;124;43m45-60 Years (Doses Administered)\u001b[39;49m\u001b[38;5;124;43m'\u001b[39;49m\u001b[43m,\u001b[49m\u001b[43m \u001b[49m\u001b[38;5;124;43m'\u001b[39;49m\u001b[38;5;124;43m60+ Years (Doses Administered)\u001b[39;49m\u001b[38;5;124;43m'\u001b[39;49m\u001b[43m]\u001b[49m\u001b[43m,\u001b[49m\u001b[43m \u001b[49m\u001b[43maxis\u001b[49m\u001b[38;5;241;43m=\u001b[39;49m\u001b[43m \u001b[49m\u001b[38;5;241;43m1\u001b[39;49m\u001b[43m)\u001b[49m\n",
      "File \u001b[1;32m~\\anaconda3\\lib\\site-packages\\pandas\\util\\_decorators.py:311\u001b[0m, in \u001b[0;36mdeprecate_nonkeyword_arguments.<locals>.decorate.<locals>.wrapper\u001b[1;34m(*args, **kwargs)\u001b[0m\n\u001b[0;32m    305\u001b[0m \u001b[38;5;28;01mif\u001b[39;00m \u001b[38;5;28mlen\u001b[39m(args) \u001b[38;5;241m>\u001b[39m num_allow_args:\n\u001b[0;32m    306\u001b[0m     warnings\u001b[38;5;241m.\u001b[39mwarn(\n\u001b[0;32m    307\u001b[0m         msg\u001b[38;5;241m.\u001b[39mformat(arguments\u001b[38;5;241m=\u001b[39marguments),\n\u001b[0;32m    308\u001b[0m         \u001b[38;5;167;01mFutureWarning\u001b[39;00m,\n\u001b[0;32m    309\u001b[0m         stacklevel\u001b[38;5;241m=\u001b[39mstacklevel,\n\u001b[0;32m    310\u001b[0m     )\n\u001b[1;32m--> 311\u001b[0m \u001b[38;5;28;01mreturn\u001b[39;00m func(\u001b[38;5;241m*\u001b[39margs, \u001b[38;5;241m*\u001b[39m\u001b[38;5;241m*\u001b[39mkwargs)\n",
      "File \u001b[1;32m~\\anaconda3\\lib\\site-packages\\pandas\\core\\frame.py:4954\u001b[0m, in \u001b[0;36mDataFrame.drop\u001b[1;34m(self, labels, axis, index, columns, level, inplace, errors)\u001b[0m\n\u001b[0;32m   4806\u001b[0m \u001b[38;5;129m@deprecate_nonkeyword_arguments\u001b[39m(version\u001b[38;5;241m=\u001b[39m\u001b[38;5;28;01mNone\u001b[39;00m, allowed_args\u001b[38;5;241m=\u001b[39m[\u001b[38;5;124m\"\u001b[39m\u001b[38;5;124mself\u001b[39m\u001b[38;5;124m\"\u001b[39m, \u001b[38;5;124m\"\u001b[39m\u001b[38;5;124mlabels\u001b[39m\u001b[38;5;124m\"\u001b[39m])\n\u001b[0;32m   4807\u001b[0m \u001b[38;5;28;01mdef\u001b[39;00m \u001b[38;5;21mdrop\u001b[39m(\n\u001b[0;32m   4808\u001b[0m     \u001b[38;5;28mself\u001b[39m,\n\u001b[1;32m   (...)\u001b[0m\n\u001b[0;32m   4815\u001b[0m     errors: \u001b[38;5;28mstr\u001b[39m \u001b[38;5;241m=\u001b[39m \u001b[38;5;124m\"\u001b[39m\u001b[38;5;124mraise\u001b[39m\u001b[38;5;124m\"\u001b[39m,\n\u001b[0;32m   4816\u001b[0m ):\n\u001b[0;32m   4817\u001b[0m     \u001b[38;5;124;03m\"\"\"\u001b[39;00m\n\u001b[0;32m   4818\u001b[0m \u001b[38;5;124;03m    Drop specified labels from rows or columns.\u001b[39;00m\n\u001b[0;32m   4819\u001b[0m \n\u001b[1;32m   (...)\u001b[0m\n\u001b[0;32m   4952\u001b[0m \u001b[38;5;124;03m            weight  1.0     0.8\u001b[39;00m\n\u001b[0;32m   4953\u001b[0m \u001b[38;5;124;03m    \"\"\"\u001b[39;00m\n\u001b[1;32m-> 4954\u001b[0m     \u001b[38;5;28;01mreturn\u001b[39;00m \u001b[38;5;28;43msuper\u001b[39;49m\u001b[43m(\u001b[49m\u001b[43m)\u001b[49m\u001b[38;5;241;43m.\u001b[39;49m\u001b[43mdrop\u001b[49m\u001b[43m(\u001b[49m\n\u001b[0;32m   4955\u001b[0m \u001b[43m        \u001b[49m\u001b[43mlabels\u001b[49m\u001b[38;5;241;43m=\u001b[39;49m\u001b[43mlabels\u001b[49m\u001b[43m,\u001b[49m\n\u001b[0;32m   4956\u001b[0m \u001b[43m        \u001b[49m\u001b[43maxis\u001b[49m\u001b[38;5;241;43m=\u001b[39;49m\u001b[43maxis\u001b[49m\u001b[43m,\u001b[49m\n\u001b[0;32m   4957\u001b[0m \u001b[43m        \u001b[49m\u001b[43mindex\u001b[49m\u001b[38;5;241;43m=\u001b[39;49m\u001b[43mindex\u001b[49m\u001b[43m,\u001b[49m\n\u001b[0;32m   4958\u001b[0m \u001b[43m        \u001b[49m\u001b[43mcolumns\u001b[49m\u001b[38;5;241;43m=\u001b[39;49m\u001b[43mcolumns\u001b[49m\u001b[43m,\u001b[49m\n\u001b[0;32m   4959\u001b[0m \u001b[43m        \u001b[49m\u001b[43mlevel\u001b[49m\u001b[38;5;241;43m=\u001b[39;49m\u001b[43mlevel\u001b[49m\u001b[43m,\u001b[49m\n\u001b[0;32m   4960\u001b[0m \u001b[43m        \u001b[49m\u001b[43minplace\u001b[49m\u001b[38;5;241;43m=\u001b[39;49m\u001b[43minplace\u001b[49m\u001b[43m,\u001b[49m\n\u001b[0;32m   4961\u001b[0m \u001b[43m        \u001b[49m\u001b[43merrors\u001b[49m\u001b[38;5;241;43m=\u001b[39;49m\u001b[43merrors\u001b[49m\u001b[43m,\u001b[49m\n\u001b[0;32m   4962\u001b[0m \u001b[43m    \u001b[49m\u001b[43m)\u001b[49m\n",
      "File \u001b[1;32m~\\anaconda3\\lib\\site-packages\\pandas\\core\\generic.py:4267\u001b[0m, in \u001b[0;36mNDFrame.drop\u001b[1;34m(self, labels, axis, index, columns, level, inplace, errors)\u001b[0m\n\u001b[0;32m   4265\u001b[0m \u001b[38;5;28;01mfor\u001b[39;00m axis, labels \u001b[38;5;129;01min\u001b[39;00m axes\u001b[38;5;241m.\u001b[39mitems():\n\u001b[0;32m   4266\u001b[0m     \u001b[38;5;28;01mif\u001b[39;00m labels \u001b[38;5;129;01mis\u001b[39;00m \u001b[38;5;129;01mnot\u001b[39;00m \u001b[38;5;28;01mNone\u001b[39;00m:\n\u001b[1;32m-> 4267\u001b[0m         obj \u001b[38;5;241m=\u001b[39m \u001b[43mobj\u001b[49m\u001b[38;5;241;43m.\u001b[39;49m\u001b[43m_drop_axis\u001b[49m\u001b[43m(\u001b[49m\u001b[43mlabels\u001b[49m\u001b[43m,\u001b[49m\u001b[43m \u001b[49m\u001b[43maxis\u001b[49m\u001b[43m,\u001b[49m\u001b[43m \u001b[49m\u001b[43mlevel\u001b[49m\u001b[38;5;241;43m=\u001b[39;49m\u001b[43mlevel\u001b[49m\u001b[43m,\u001b[49m\u001b[43m \u001b[49m\u001b[43merrors\u001b[49m\u001b[38;5;241;43m=\u001b[39;49m\u001b[43merrors\u001b[49m\u001b[43m)\u001b[49m\n\u001b[0;32m   4269\u001b[0m \u001b[38;5;28;01mif\u001b[39;00m inplace:\n\u001b[0;32m   4270\u001b[0m     \u001b[38;5;28mself\u001b[39m\u001b[38;5;241m.\u001b[39m_update_inplace(obj)\n",
      "File \u001b[1;32m~\\anaconda3\\lib\\site-packages\\pandas\\core\\generic.py:4311\u001b[0m, in \u001b[0;36mNDFrame._drop_axis\u001b[1;34m(self, labels, axis, level, errors, consolidate, only_slice)\u001b[0m\n\u001b[0;32m   4309\u001b[0m         new_axis \u001b[38;5;241m=\u001b[39m axis\u001b[38;5;241m.\u001b[39mdrop(labels, level\u001b[38;5;241m=\u001b[39mlevel, errors\u001b[38;5;241m=\u001b[39merrors)\n\u001b[0;32m   4310\u001b[0m     \u001b[38;5;28;01melse\u001b[39;00m:\n\u001b[1;32m-> 4311\u001b[0m         new_axis \u001b[38;5;241m=\u001b[39m \u001b[43maxis\u001b[49m\u001b[38;5;241;43m.\u001b[39;49m\u001b[43mdrop\u001b[49m\u001b[43m(\u001b[49m\u001b[43mlabels\u001b[49m\u001b[43m,\u001b[49m\u001b[43m \u001b[49m\u001b[43merrors\u001b[49m\u001b[38;5;241;43m=\u001b[39;49m\u001b[43merrors\u001b[49m\u001b[43m)\u001b[49m\n\u001b[0;32m   4312\u001b[0m     indexer \u001b[38;5;241m=\u001b[39m axis\u001b[38;5;241m.\u001b[39mget_indexer(new_axis)\n\u001b[0;32m   4314\u001b[0m \u001b[38;5;66;03m# Case for non-unique axis\u001b[39;00m\n\u001b[0;32m   4315\u001b[0m \u001b[38;5;28;01melse\u001b[39;00m:\n",
      "File \u001b[1;32m~\\anaconda3\\lib\\site-packages\\pandas\\core\\indexes\\base.py:6644\u001b[0m, in \u001b[0;36mIndex.drop\u001b[1;34m(self, labels, errors)\u001b[0m\n\u001b[0;32m   6642\u001b[0m \u001b[38;5;28;01mif\u001b[39;00m mask\u001b[38;5;241m.\u001b[39many():\n\u001b[0;32m   6643\u001b[0m     \u001b[38;5;28;01mif\u001b[39;00m errors \u001b[38;5;241m!=\u001b[39m \u001b[38;5;124m\"\u001b[39m\u001b[38;5;124mignore\u001b[39m\u001b[38;5;124m\"\u001b[39m:\n\u001b[1;32m-> 6644\u001b[0m         \u001b[38;5;28;01mraise\u001b[39;00m \u001b[38;5;167;01mKeyError\u001b[39;00m(\u001b[38;5;124mf\u001b[39m\u001b[38;5;124m\"\u001b[39m\u001b[38;5;132;01m{\u001b[39;00m\u001b[38;5;28mlist\u001b[39m(labels[mask])\u001b[38;5;132;01m}\u001b[39;00m\u001b[38;5;124m not found in axis\u001b[39m\u001b[38;5;124m\"\u001b[39m)\n\u001b[0;32m   6645\u001b[0m     indexer \u001b[38;5;241m=\u001b[39m indexer[\u001b[38;5;241m~\u001b[39mmask]\n\u001b[0;32m   6646\u001b[0m \u001b[38;5;28;01mreturn\u001b[39;00m \u001b[38;5;28mself\u001b[39m\u001b[38;5;241m.\u001b[39mdelete(indexer)\n",
      "\u001b[1;31mKeyError\u001b[0m: \"['Sputnik V (Doses Administered)', 'AEFI', '18-44 Years (Doses Administered)', '45-60 Years (Doses Administered)', '60+ Years (Doses Administered)'] not found in axis\""
     ]
    }
   ],
   "source": [
    "vaccine_df = vaccine_df.drop(columns = ['Sputnik V (Doses Administered)', 'AEFI', '18-44 Years (Doses Administered)', '45-60 Years (Doses Administered)', '60+ Years (Doses Administered)'], axis= 1)"
   ]
  },
  {
   "cell_type": "code",
   "execution_count": 43,
   "id": "f5ac3c82",
   "metadata": {},
   "outputs": [
    {
     "data": {
      "text/html": [
       "<div>\n",
       "<style scoped>\n",
       "    .dataframe tbody tr th:only-of-type {\n",
       "        vertical-align: middle;\n",
       "    }\n",
       "\n",
       "    .dataframe tbody tr th {\n",
       "        vertical-align: top;\n",
       "    }\n",
       "\n",
       "    .dataframe thead th {\n",
       "        text-align: right;\n",
       "    }\n",
       "</style>\n",
       "<table border=\"1\" class=\"dataframe\">\n",
       "  <thead>\n",
       "    <tr style=\"text-align: right;\">\n",
       "      <th></th>\n",
       "      <th>Vaccine Date</th>\n",
       "      <th>State</th>\n",
       "      <th>Total Doses Administered</th>\n",
       "      <th>Sessions</th>\n",
       "      <th>Sites</th>\n",
       "      <th>First Dose Administered</th>\n",
       "      <th>Second Dose Administered</th>\n",
       "      <th>Male (Doses Administered)</th>\n",
       "      <th>Female (Doses Administered)</th>\n",
       "      <th>Transgender (Doses Administered)</th>\n",
       "      <th>Covaxin (Doses Administered)</th>\n",
       "      <th>CoviShield (Doses Administered)</th>\n",
       "      <th>18-44 Years(Individuals Vaccinated)</th>\n",
       "      <th>45-60 Years(Individuals Vaccinated)</th>\n",
       "      <th>60+ Years(Individuals Vaccinated)</th>\n",
       "      <th>Male(Individuals Vaccinated)</th>\n",
       "      <th>Female(Individuals Vaccinated)</th>\n",
       "      <th>Transgender(Individuals Vaccinated)</th>\n",
       "      <th>Total Individuals Vaccinated</th>\n",
       "    </tr>\n",
       "  </thead>\n",
       "  <tbody>\n",
       "    <tr>\n",
       "      <th>0</th>\n",
       "      <td>16/01/2021</td>\n",
       "      <td>India</td>\n",
       "      <td>48276.0</td>\n",
       "      <td>3455.0</td>\n",
       "      <td>2957.0</td>\n",
       "      <td>48276.0</td>\n",
       "      <td>0.0</td>\n",
       "      <td>NaN</td>\n",
       "      <td>NaN</td>\n",
       "      <td>NaN</td>\n",
       "      <td>579.0</td>\n",
       "      <td>47697.0</td>\n",
       "      <td>NaN</td>\n",
       "      <td>NaN</td>\n",
       "      <td>NaN</td>\n",
       "      <td>23757.0</td>\n",
       "      <td>24517.0</td>\n",
       "      <td>2.0</td>\n",
       "      <td>48276.0</td>\n",
       "    </tr>\n",
       "    <tr>\n",
       "      <th>1</th>\n",
       "      <td>17/01/2021</td>\n",
       "      <td>India</td>\n",
       "      <td>58604.0</td>\n",
       "      <td>8532.0</td>\n",
       "      <td>4954.0</td>\n",
       "      <td>58604.0</td>\n",
       "      <td>0.0</td>\n",
       "      <td>NaN</td>\n",
       "      <td>NaN</td>\n",
       "      <td>NaN</td>\n",
       "      <td>635.0</td>\n",
       "      <td>57969.0</td>\n",
       "      <td>NaN</td>\n",
       "      <td>NaN</td>\n",
       "      <td>NaN</td>\n",
       "      <td>27348.0</td>\n",
       "      <td>31252.0</td>\n",
       "      <td>4.0</td>\n",
       "      <td>58604.0</td>\n",
       "    </tr>\n",
       "    <tr>\n",
       "      <th>2</th>\n",
       "      <td>18/01/2021</td>\n",
       "      <td>India</td>\n",
       "      <td>99449.0</td>\n",
       "      <td>13611.0</td>\n",
       "      <td>6583.0</td>\n",
       "      <td>99449.0</td>\n",
       "      <td>0.0</td>\n",
       "      <td>NaN</td>\n",
       "      <td>NaN</td>\n",
       "      <td>NaN</td>\n",
       "      <td>1299.0</td>\n",
       "      <td>98150.0</td>\n",
       "      <td>NaN</td>\n",
       "      <td>NaN</td>\n",
       "      <td>NaN</td>\n",
       "      <td>41361.0</td>\n",
       "      <td>58083.0</td>\n",
       "      <td>5.0</td>\n",
       "      <td>99449.0</td>\n",
       "    </tr>\n",
       "    <tr>\n",
       "      <th>3</th>\n",
       "      <td>19/01/2021</td>\n",
       "      <td>India</td>\n",
       "      <td>195525.0</td>\n",
       "      <td>17855.0</td>\n",
       "      <td>7951.0</td>\n",
       "      <td>195525.0</td>\n",
       "      <td>0.0</td>\n",
       "      <td>NaN</td>\n",
       "      <td>NaN</td>\n",
       "      <td>NaN</td>\n",
       "      <td>3017.0</td>\n",
       "      <td>192508.0</td>\n",
       "      <td>NaN</td>\n",
       "      <td>NaN</td>\n",
       "      <td>NaN</td>\n",
       "      <td>81901.0</td>\n",
       "      <td>113613.0</td>\n",
       "      <td>11.0</td>\n",
       "      <td>195525.0</td>\n",
       "    </tr>\n",
       "    <tr>\n",
       "      <th>4</th>\n",
       "      <td>20/01/2021</td>\n",
       "      <td>India</td>\n",
       "      <td>251280.0</td>\n",
       "      <td>25472.0</td>\n",
       "      <td>10504.0</td>\n",
       "      <td>251280.0</td>\n",
       "      <td>0.0</td>\n",
       "      <td>NaN</td>\n",
       "      <td>NaN</td>\n",
       "      <td>NaN</td>\n",
       "      <td>3946.0</td>\n",
       "      <td>247334.0</td>\n",
       "      <td>NaN</td>\n",
       "      <td>NaN</td>\n",
       "      <td>NaN</td>\n",
       "      <td>98111.0</td>\n",
       "      <td>153145.0</td>\n",
       "      <td>24.0</td>\n",
       "      <td>251280.0</td>\n",
       "    </tr>\n",
       "  </tbody>\n",
       "</table>\n",
       "</div>"
      ],
      "text/plain": [
       "  Vaccine Date  State  Total Doses Administered  Sessions   Sites   \\\n",
       "0   16/01/2021  India                   48276.0    3455.0   2957.0   \n",
       "1   17/01/2021  India                   58604.0    8532.0   4954.0   \n",
       "2   18/01/2021  India                   99449.0   13611.0   6583.0   \n",
       "3   19/01/2021  India                  195525.0   17855.0   7951.0   \n",
       "4   20/01/2021  India                  251280.0   25472.0  10504.0   \n",
       "\n",
       "   First Dose Administered  Second Dose Administered  \\\n",
       "0                  48276.0                       0.0   \n",
       "1                  58604.0                       0.0   \n",
       "2                  99449.0                       0.0   \n",
       "3                 195525.0                       0.0   \n",
       "4                 251280.0                       0.0   \n",
       "\n",
       "   Male (Doses Administered)  Female (Doses Administered)  \\\n",
       "0                        NaN                          NaN   \n",
       "1                        NaN                          NaN   \n",
       "2                        NaN                          NaN   \n",
       "3                        NaN                          NaN   \n",
       "4                        NaN                          NaN   \n",
       "\n",
       "   Transgender (Doses Administered)   Covaxin (Doses Administered)  \\\n",
       "0                               NaN                          579.0   \n",
       "1                               NaN                          635.0   \n",
       "2                               NaN                         1299.0   \n",
       "3                               NaN                         3017.0   \n",
       "4                               NaN                         3946.0   \n",
       "\n",
       "   CoviShield (Doses Administered)  18-44 Years(Individuals Vaccinated)  \\\n",
       "0                          47697.0                                  NaN   \n",
       "1                          57969.0                                  NaN   \n",
       "2                          98150.0                                  NaN   \n",
       "3                         192508.0                                  NaN   \n",
       "4                         247334.0                                  NaN   \n",
       "\n",
       "   45-60 Years(Individuals Vaccinated)  60+ Years(Individuals Vaccinated)  \\\n",
       "0                                  NaN                                NaN   \n",
       "1                                  NaN                                NaN   \n",
       "2                                  NaN                                NaN   \n",
       "3                                  NaN                                NaN   \n",
       "4                                  NaN                                NaN   \n",
       "\n",
       "   Male(Individuals Vaccinated)  Female(Individuals Vaccinated)  \\\n",
       "0                       23757.0                         24517.0   \n",
       "1                       27348.0                         31252.0   \n",
       "2                       41361.0                         58083.0   \n",
       "3                       81901.0                        113613.0   \n",
       "4                       98111.0                        153145.0   \n",
       "\n",
       "   Transgender(Individuals Vaccinated)  Total Individuals Vaccinated  \n",
       "0                                  2.0                       48276.0  \n",
       "1                                  4.0                       58604.0  \n",
       "2                                  5.0                       99449.0  \n",
       "3                                 11.0                      195525.0  \n",
       "4                                 24.0                      251280.0  "
      ]
     },
     "execution_count": 43,
     "metadata": {},
     "output_type": "execute_result"
    }
   ],
   "source": [
    "vaccine_df.head()"
   ]
  },
  {
   "cell_type": "code",
   "execution_count": 63,
   "id": "9d372def",
   "metadata": {},
   "outputs": [
    {
     "data": {
      "application/vnd.plotly.v1+json": {
       "config": {
        "plotlyServerURL": "https://plot.ly"
       },
       "data": [
        {
         "domain": {
          "x": [
           0,
           1
          ],
          "y": [
           0,
           1
          ]
         },
         "hovertemplate": "label=%{label}<br>value=%{value}<extra></extra>",
         "labels": [
          "Male",
          "Female"
         ],
         "legendgroup": "",
         "name": "",
         "showlegend": true,
         "type": "pie",
         "values": [
          7138698858,
          6321628736
         ]
        }
       ],
       "layout": {
        "legend": {
         "tracegroupgap": 0
        },
        "piecolorway": [
         "rgb(103,0,31)",
         "rgb(178,24,43)",
         "rgb(214,96,77)",
         "rgb(244,165,130)",
         "rgb(253,219,199)",
         "rgb(247,247,247)",
         "rgb(209,229,240)",
         "rgb(146,197,222)",
         "rgb(67,147,195)",
         "rgb(33,102,172)",
         "rgb(5,48,97)"
        ],
        "template": {
         "data": {
          "bar": [
           {
            "error_x": {
             "color": "#2a3f5f"
            },
            "error_y": {
             "color": "#2a3f5f"
            },
            "marker": {
             "line": {
              "color": "#E5ECF6",
              "width": 0.5
             },
             "pattern": {
              "fillmode": "overlay",
              "size": 10,
              "solidity": 0.2
             }
            },
            "type": "bar"
           }
          ],
          "barpolar": [
           {
            "marker": {
             "line": {
              "color": "#E5ECF6",
              "width": 0.5
             },
             "pattern": {
              "fillmode": "overlay",
              "size": 10,
              "solidity": 0.2
             }
            },
            "type": "barpolar"
           }
          ],
          "carpet": [
           {
            "aaxis": {
             "endlinecolor": "#2a3f5f",
             "gridcolor": "white",
             "linecolor": "white",
             "minorgridcolor": "white",
             "startlinecolor": "#2a3f5f"
            },
            "baxis": {
             "endlinecolor": "#2a3f5f",
             "gridcolor": "white",
             "linecolor": "white",
             "minorgridcolor": "white",
             "startlinecolor": "#2a3f5f"
            },
            "type": "carpet"
           }
          ],
          "choropleth": [
           {
            "colorbar": {
             "outlinewidth": 0,
             "ticks": ""
            },
            "type": "choropleth"
           }
          ],
          "contour": [
           {
            "colorbar": {
             "outlinewidth": 0,
             "ticks": ""
            },
            "colorscale": [
             [
              0,
              "#0d0887"
             ],
             [
              0.1111111111111111,
              "#46039f"
             ],
             [
              0.2222222222222222,
              "#7201a8"
             ],
             [
              0.3333333333333333,
              "#9c179e"
             ],
             [
              0.4444444444444444,
              "#bd3786"
             ],
             [
              0.5555555555555556,
              "#d8576b"
             ],
             [
              0.6666666666666666,
              "#ed7953"
             ],
             [
              0.7777777777777778,
              "#fb9f3a"
             ],
             [
              0.8888888888888888,
              "#fdca26"
             ],
             [
              1,
              "#f0f921"
             ]
            ],
            "type": "contour"
           }
          ],
          "contourcarpet": [
           {
            "colorbar": {
             "outlinewidth": 0,
             "ticks": ""
            },
            "type": "contourcarpet"
           }
          ],
          "heatmap": [
           {
            "colorbar": {
             "outlinewidth": 0,
             "ticks": ""
            },
            "colorscale": [
             [
              0,
              "#0d0887"
             ],
             [
              0.1111111111111111,
              "#46039f"
             ],
             [
              0.2222222222222222,
              "#7201a8"
             ],
             [
              0.3333333333333333,
              "#9c179e"
             ],
             [
              0.4444444444444444,
              "#bd3786"
             ],
             [
              0.5555555555555556,
              "#d8576b"
             ],
             [
              0.6666666666666666,
              "#ed7953"
             ],
             [
              0.7777777777777778,
              "#fb9f3a"
             ],
             [
              0.8888888888888888,
              "#fdca26"
             ],
             [
              1,
              "#f0f921"
             ]
            ],
            "type": "heatmap"
           }
          ],
          "heatmapgl": [
           {
            "colorbar": {
             "outlinewidth": 0,
             "ticks": ""
            },
            "colorscale": [
             [
              0,
              "#0d0887"
             ],
             [
              0.1111111111111111,
              "#46039f"
             ],
             [
              0.2222222222222222,
              "#7201a8"
             ],
             [
              0.3333333333333333,
              "#9c179e"
             ],
             [
              0.4444444444444444,
              "#bd3786"
             ],
             [
              0.5555555555555556,
              "#d8576b"
             ],
             [
              0.6666666666666666,
              "#ed7953"
             ],
             [
              0.7777777777777778,
              "#fb9f3a"
             ],
             [
              0.8888888888888888,
              "#fdca26"
             ],
             [
              1,
              "#f0f921"
             ]
            ],
            "type": "heatmapgl"
           }
          ],
          "histogram": [
           {
            "marker": {
             "pattern": {
              "fillmode": "overlay",
              "size": 10,
              "solidity": 0.2
             }
            },
            "type": "histogram"
           }
          ],
          "histogram2d": [
           {
            "colorbar": {
             "outlinewidth": 0,
             "ticks": ""
            },
            "colorscale": [
             [
              0,
              "#0d0887"
             ],
             [
              0.1111111111111111,
              "#46039f"
             ],
             [
              0.2222222222222222,
              "#7201a8"
             ],
             [
              0.3333333333333333,
              "#9c179e"
             ],
             [
              0.4444444444444444,
              "#bd3786"
             ],
             [
              0.5555555555555556,
              "#d8576b"
             ],
             [
              0.6666666666666666,
              "#ed7953"
             ],
             [
              0.7777777777777778,
              "#fb9f3a"
             ],
             [
              0.8888888888888888,
              "#fdca26"
             ],
             [
              1,
              "#f0f921"
             ]
            ],
            "type": "histogram2d"
           }
          ],
          "histogram2dcontour": [
           {
            "colorbar": {
             "outlinewidth": 0,
             "ticks": ""
            },
            "colorscale": [
             [
              0,
              "#0d0887"
             ],
             [
              0.1111111111111111,
              "#46039f"
             ],
             [
              0.2222222222222222,
              "#7201a8"
             ],
             [
              0.3333333333333333,
              "#9c179e"
             ],
             [
              0.4444444444444444,
              "#bd3786"
             ],
             [
              0.5555555555555556,
              "#d8576b"
             ],
             [
              0.6666666666666666,
              "#ed7953"
             ],
             [
              0.7777777777777778,
              "#fb9f3a"
             ],
             [
              0.8888888888888888,
              "#fdca26"
             ],
             [
              1,
              "#f0f921"
             ]
            ],
            "type": "histogram2dcontour"
           }
          ],
          "mesh3d": [
           {
            "colorbar": {
             "outlinewidth": 0,
             "ticks": ""
            },
            "type": "mesh3d"
           }
          ],
          "parcoords": [
           {
            "line": {
             "colorbar": {
              "outlinewidth": 0,
              "ticks": ""
             }
            },
            "type": "parcoords"
           }
          ],
          "pie": [
           {
            "automargin": true,
            "type": "pie"
           }
          ],
          "scatter": [
           {
            "marker": {
             "colorbar": {
              "outlinewidth": 0,
              "ticks": ""
             }
            },
            "type": "scatter"
           }
          ],
          "scatter3d": [
           {
            "line": {
             "colorbar": {
              "outlinewidth": 0,
              "ticks": ""
             }
            },
            "marker": {
             "colorbar": {
              "outlinewidth": 0,
              "ticks": ""
             }
            },
            "type": "scatter3d"
           }
          ],
          "scattercarpet": [
           {
            "marker": {
             "colorbar": {
              "outlinewidth": 0,
              "ticks": ""
             }
            },
            "type": "scattercarpet"
           }
          ],
          "scattergeo": [
           {
            "marker": {
             "colorbar": {
              "outlinewidth": 0,
              "ticks": ""
             }
            },
            "type": "scattergeo"
           }
          ],
          "scattergl": [
           {
            "marker": {
             "colorbar": {
              "outlinewidth": 0,
              "ticks": ""
             }
            },
            "type": "scattergl"
           }
          ],
          "scattermapbox": [
           {
            "marker": {
             "colorbar": {
              "outlinewidth": 0,
              "ticks": ""
             }
            },
            "type": "scattermapbox"
           }
          ],
          "scatterpolar": [
           {
            "marker": {
             "colorbar": {
              "outlinewidth": 0,
              "ticks": ""
             }
            },
            "type": "scatterpolar"
           }
          ],
          "scatterpolargl": [
           {
            "marker": {
             "colorbar": {
              "outlinewidth": 0,
              "ticks": ""
             }
            },
            "type": "scatterpolargl"
           }
          ],
          "scatterternary": [
           {
            "marker": {
             "colorbar": {
              "outlinewidth": 0,
              "ticks": ""
             }
            },
            "type": "scatterternary"
           }
          ],
          "surface": [
           {
            "colorbar": {
             "outlinewidth": 0,
             "ticks": ""
            },
            "colorscale": [
             [
              0,
              "#0d0887"
             ],
             [
              0.1111111111111111,
              "#46039f"
             ],
             [
              0.2222222222222222,
              "#7201a8"
             ],
             [
              0.3333333333333333,
              "#9c179e"
             ],
             [
              0.4444444444444444,
              "#bd3786"
             ],
             [
              0.5555555555555556,
              "#d8576b"
             ],
             [
              0.6666666666666666,
              "#ed7953"
             ],
             [
              0.7777777777777778,
              "#fb9f3a"
             ],
             [
              0.8888888888888888,
              "#fdca26"
             ],
             [
              1,
              "#f0f921"
             ]
            ],
            "type": "surface"
           }
          ],
          "table": [
           {
            "cells": {
             "fill": {
              "color": "#EBF0F8"
             },
             "line": {
              "color": "white"
             }
            },
            "header": {
             "fill": {
              "color": "#C8D4E3"
             },
             "line": {
              "color": "white"
             }
            },
            "type": "table"
           }
          ]
         },
         "layout": {
          "annotationdefaults": {
           "arrowcolor": "#2a3f5f",
           "arrowhead": 0,
           "arrowwidth": 1
          },
          "autotypenumbers": "strict",
          "coloraxis": {
           "colorbar": {
            "outlinewidth": 0,
            "ticks": ""
           }
          },
          "colorscale": {
           "diverging": [
            [
             0,
             "#8e0152"
            ],
            [
             0.1,
             "#c51b7d"
            ],
            [
             0.2,
             "#de77ae"
            ],
            [
             0.3,
             "#f1b6da"
            ],
            [
             0.4,
             "#fde0ef"
            ],
            [
             0.5,
             "#f7f7f7"
            ],
            [
             0.6,
             "#e6f5d0"
            ],
            [
             0.7,
             "#b8e186"
            ],
            [
             0.8,
             "#7fbc41"
            ],
            [
             0.9,
             "#4d9221"
            ],
            [
             1,
             "#276419"
            ]
           ],
           "sequential": [
            [
             0,
             "#0d0887"
            ],
            [
             0.1111111111111111,
             "#46039f"
            ],
            [
             0.2222222222222222,
             "#7201a8"
            ],
            [
             0.3333333333333333,
             "#9c179e"
            ],
            [
             0.4444444444444444,
             "#bd3786"
            ],
            [
             0.5555555555555556,
             "#d8576b"
            ],
            [
             0.6666666666666666,
             "#ed7953"
            ],
            [
             0.7777777777777778,
             "#fb9f3a"
            ],
            [
             0.8888888888888888,
             "#fdca26"
            ],
            [
             1,
             "#f0f921"
            ]
           ],
           "sequentialminus": [
            [
             0,
             "#0d0887"
            ],
            [
             0.1111111111111111,
             "#46039f"
            ],
            [
             0.2222222222222222,
             "#7201a8"
            ],
            [
             0.3333333333333333,
             "#9c179e"
            ],
            [
             0.4444444444444444,
             "#bd3786"
            ],
            [
             0.5555555555555556,
             "#d8576b"
            ],
            [
             0.6666666666666666,
             "#ed7953"
            ],
            [
             0.7777777777777778,
             "#fb9f3a"
            ],
            [
             0.8888888888888888,
             "#fdca26"
            ],
            [
             1,
             "#f0f921"
            ]
           ]
          },
          "colorway": [
           "#636efa",
           "#EF553B",
           "#00cc96",
           "#ab63fa",
           "#FFA15A",
           "#19d3f3",
           "#FF6692",
           "#B6E880",
           "#FF97FF",
           "#FECB52"
          ],
          "font": {
           "color": "#2a3f5f"
          },
          "geo": {
           "bgcolor": "white",
           "lakecolor": "white",
           "landcolor": "#E5ECF6",
           "showlakes": true,
           "showland": true,
           "subunitcolor": "white"
          },
          "hoverlabel": {
           "align": "left"
          },
          "hovermode": "closest",
          "mapbox": {
           "style": "light"
          },
          "paper_bgcolor": "white",
          "plot_bgcolor": "#E5ECF6",
          "polar": {
           "angularaxis": {
            "gridcolor": "white",
            "linecolor": "white",
            "ticks": ""
           },
           "bgcolor": "#E5ECF6",
           "radialaxis": {
            "gridcolor": "white",
            "linecolor": "white",
            "ticks": ""
           }
          },
          "scene": {
           "xaxis": {
            "backgroundcolor": "#E5ECF6",
            "gridcolor": "white",
            "gridwidth": 2,
            "linecolor": "white",
            "showbackground": true,
            "ticks": "",
            "zerolinecolor": "white"
           },
           "yaxis": {
            "backgroundcolor": "#E5ECF6",
            "gridcolor": "white",
            "gridwidth": 2,
            "linecolor": "white",
            "showbackground": true,
            "ticks": "",
            "zerolinecolor": "white"
           },
           "zaxis": {
            "backgroundcolor": "#E5ECF6",
            "gridcolor": "white",
            "gridwidth": 2,
            "linecolor": "white",
            "showbackground": true,
            "ticks": "",
            "zerolinecolor": "white"
           }
          },
          "shapedefaults": {
           "line": {
            "color": "#2a3f5f"
           }
          },
          "ternary": {
           "aaxis": {
            "gridcolor": "white",
            "linecolor": "white",
            "ticks": ""
           },
           "baxis": {
            "gridcolor": "white",
            "linecolor": "white",
            "ticks": ""
           },
           "bgcolor": "#E5ECF6",
           "caxis": {
            "gridcolor": "white",
            "linecolor": "white",
            "ticks": ""
           }
          },
          "title": {
           "x": 0.05
          },
          "xaxis": {
           "automargin": true,
           "gridcolor": "white",
           "linecolor": "white",
           "ticks": "",
           "title": {
            "standoff": 15
           },
           "zerolinecolor": "white",
           "zerolinewidth": 2
          },
          "yaxis": {
           "automargin": true,
           "gridcolor": "white",
           "linecolor": "white",
           "ticks": "",
           "title": {
            "standoff": 15
           },
           "zerolinecolor": "white",
           "zerolinewidth": 2
          }
         }
        },
        "title": {
         "text": "Male and Female Vaccination Comaprision"
        }
       }
      },
      "text/html": [
       "<div>                            <div id=\"5e57522e-1629-42dd-8e5e-cb51fe8bc871\" class=\"plotly-graph-div\" style=\"height:525px; width:100%;\"></div>            <script type=\"text/javascript\">                require([\"plotly\"], function(Plotly) {                    window.PLOTLYENV=window.PLOTLYENV || {};                                    if (document.getElementById(\"5e57522e-1629-42dd-8e5e-cb51fe8bc871\")) {                    Plotly.newPlot(                        \"5e57522e-1629-42dd-8e5e-cb51fe8bc871\",                        [{\"domain\":{\"x\":[0.0,1.0],\"y\":[0.0,1.0]},\"hovertemplate\":\"label=%{label}<br>value=%{value}<extra></extra>\",\"labels\":[\"Male\",\"Female\"],\"legendgroup\":\"\",\"name\":\"\",\"showlegend\":true,\"values\":[7138698858.0,6321628736.0],\"type\":\"pie\"}],                        {\"template\":{\"data\":{\"bar\":[{\"error_x\":{\"color\":\"#2a3f5f\"},\"error_y\":{\"color\":\"#2a3f5f\"},\"marker\":{\"line\":{\"color\":\"#E5ECF6\",\"width\":0.5},\"pattern\":{\"fillmode\":\"overlay\",\"size\":10,\"solidity\":0.2}},\"type\":\"bar\"}],\"barpolar\":[{\"marker\":{\"line\":{\"color\":\"#E5ECF6\",\"width\":0.5},\"pattern\":{\"fillmode\":\"overlay\",\"size\":10,\"solidity\":0.2}},\"type\":\"barpolar\"}],\"carpet\":[{\"aaxis\":{\"endlinecolor\":\"#2a3f5f\",\"gridcolor\":\"white\",\"linecolor\":\"white\",\"minorgridcolor\":\"white\",\"startlinecolor\":\"#2a3f5f\"},\"baxis\":{\"endlinecolor\":\"#2a3f5f\",\"gridcolor\":\"white\",\"linecolor\":\"white\",\"minorgridcolor\":\"white\",\"startlinecolor\":\"#2a3f5f\"},\"type\":\"carpet\"}],\"choropleth\":[{\"colorbar\":{\"outlinewidth\":0,\"ticks\":\"\"},\"type\":\"choropleth\"}],\"contour\":[{\"colorbar\":{\"outlinewidth\":0,\"ticks\":\"\"},\"colorscale\":[[0.0,\"#0d0887\"],[0.1111111111111111,\"#46039f\"],[0.2222222222222222,\"#7201a8\"],[0.3333333333333333,\"#9c179e\"],[0.4444444444444444,\"#bd3786\"],[0.5555555555555556,\"#d8576b\"],[0.6666666666666666,\"#ed7953\"],[0.7777777777777778,\"#fb9f3a\"],[0.8888888888888888,\"#fdca26\"],[1.0,\"#f0f921\"]],\"type\":\"contour\"}],\"contourcarpet\":[{\"colorbar\":{\"outlinewidth\":0,\"ticks\":\"\"},\"type\":\"contourcarpet\"}],\"heatmap\":[{\"colorbar\":{\"outlinewidth\":0,\"ticks\":\"\"},\"colorscale\":[[0.0,\"#0d0887\"],[0.1111111111111111,\"#46039f\"],[0.2222222222222222,\"#7201a8\"],[0.3333333333333333,\"#9c179e\"],[0.4444444444444444,\"#bd3786\"],[0.5555555555555556,\"#d8576b\"],[0.6666666666666666,\"#ed7953\"],[0.7777777777777778,\"#fb9f3a\"],[0.8888888888888888,\"#fdca26\"],[1.0,\"#f0f921\"]],\"type\":\"heatmap\"}],\"heatmapgl\":[{\"colorbar\":{\"outlinewidth\":0,\"ticks\":\"\"},\"colorscale\":[[0.0,\"#0d0887\"],[0.1111111111111111,\"#46039f\"],[0.2222222222222222,\"#7201a8\"],[0.3333333333333333,\"#9c179e\"],[0.4444444444444444,\"#bd3786\"],[0.5555555555555556,\"#d8576b\"],[0.6666666666666666,\"#ed7953\"],[0.7777777777777778,\"#fb9f3a\"],[0.8888888888888888,\"#fdca26\"],[1.0,\"#f0f921\"]],\"type\":\"heatmapgl\"}],\"histogram\":[{\"marker\":{\"pattern\":{\"fillmode\":\"overlay\",\"size\":10,\"solidity\":0.2}},\"type\":\"histogram\"}],\"histogram2d\":[{\"colorbar\":{\"outlinewidth\":0,\"ticks\":\"\"},\"colorscale\":[[0.0,\"#0d0887\"],[0.1111111111111111,\"#46039f\"],[0.2222222222222222,\"#7201a8\"],[0.3333333333333333,\"#9c179e\"],[0.4444444444444444,\"#bd3786\"],[0.5555555555555556,\"#d8576b\"],[0.6666666666666666,\"#ed7953\"],[0.7777777777777778,\"#fb9f3a\"],[0.8888888888888888,\"#fdca26\"],[1.0,\"#f0f921\"]],\"type\":\"histogram2d\"}],\"histogram2dcontour\":[{\"colorbar\":{\"outlinewidth\":0,\"ticks\":\"\"},\"colorscale\":[[0.0,\"#0d0887\"],[0.1111111111111111,\"#46039f\"],[0.2222222222222222,\"#7201a8\"],[0.3333333333333333,\"#9c179e\"],[0.4444444444444444,\"#bd3786\"],[0.5555555555555556,\"#d8576b\"],[0.6666666666666666,\"#ed7953\"],[0.7777777777777778,\"#fb9f3a\"],[0.8888888888888888,\"#fdca26\"],[1.0,\"#f0f921\"]],\"type\":\"histogram2dcontour\"}],\"mesh3d\":[{\"colorbar\":{\"outlinewidth\":0,\"ticks\":\"\"},\"type\":\"mesh3d\"}],\"parcoords\":[{\"line\":{\"colorbar\":{\"outlinewidth\":0,\"ticks\":\"\"}},\"type\":\"parcoords\"}],\"pie\":[{\"automargin\":true,\"type\":\"pie\"}],\"scatter\":[{\"marker\":{\"colorbar\":{\"outlinewidth\":0,\"ticks\":\"\"}},\"type\":\"scatter\"}],\"scatter3d\":[{\"line\":{\"colorbar\":{\"outlinewidth\":0,\"ticks\":\"\"}},\"marker\":{\"colorbar\":{\"outlinewidth\":0,\"ticks\":\"\"}},\"type\":\"scatter3d\"}],\"scattercarpet\":[{\"marker\":{\"colorbar\":{\"outlinewidth\":0,\"ticks\":\"\"}},\"type\":\"scattercarpet\"}],\"scattergeo\":[{\"marker\":{\"colorbar\":{\"outlinewidth\":0,\"ticks\":\"\"}},\"type\":\"scattergeo\"}],\"scattergl\":[{\"marker\":{\"colorbar\":{\"outlinewidth\":0,\"ticks\":\"\"}},\"type\":\"scattergl\"}],\"scattermapbox\":[{\"marker\":{\"colorbar\":{\"outlinewidth\":0,\"ticks\":\"\"}},\"type\":\"scattermapbox\"}],\"scatterpolar\":[{\"marker\":{\"colorbar\":{\"outlinewidth\":0,\"ticks\":\"\"}},\"type\":\"scatterpolar\"}],\"scatterpolargl\":[{\"marker\":{\"colorbar\":{\"outlinewidth\":0,\"ticks\":\"\"}},\"type\":\"scatterpolargl\"}],\"scatterternary\":[{\"marker\":{\"colorbar\":{\"outlinewidth\":0,\"ticks\":\"\"}},\"type\":\"scatterternary\"}],\"surface\":[{\"colorbar\":{\"outlinewidth\":0,\"ticks\":\"\"},\"colorscale\":[[0.0,\"#0d0887\"],[0.1111111111111111,\"#46039f\"],[0.2222222222222222,\"#7201a8\"],[0.3333333333333333,\"#9c179e\"],[0.4444444444444444,\"#bd3786\"],[0.5555555555555556,\"#d8576b\"],[0.6666666666666666,\"#ed7953\"],[0.7777777777777778,\"#fb9f3a\"],[0.8888888888888888,\"#fdca26\"],[1.0,\"#f0f921\"]],\"type\":\"surface\"}],\"table\":[{\"cells\":{\"fill\":{\"color\":\"#EBF0F8\"},\"line\":{\"color\":\"white\"}},\"header\":{\"fill\":{\"color\":\"#C8D4E3\"},\"line\":{\"color\":\"white\"}},\"type\":\"table\"}]},\"layout\":{\"annotationdefaults\":{\"arrowcolor\":\"#2a3f5f\",\"arrowhead\":0,\"arrowwidth\":1},\"autotypenumbers\":\"strict\",\"coloraxis\":{\"colorbar\":{\"outlinewidth\":0,\"ticks\":\"\"}},\"colorscale\":{\"diverging\":[[0,\"#8e0152\"],[0.1,\"#c51b7d\"],[0.2,\"#de77ae\"],[0.3,\"#f1b6da\"],[0.4,\"#fde0ef\"],[0.5,\"#f7f7f7\"],[0.6,\"#e6f5d0\"],[0.7,\"#b8e186\"],[0.8,\"#7fbc41\"],[0.9,\"#4d9221\"],[1,\"#276419\"]],\"sequential\":[[0.0,\"#0d0887\"],[0.1111111111111111,\"#46039f\"],[0.2222222222222222,\"#7201a8\"],[0.3333333333333333,\"#9c179e\"],[0.4444444444444444,\"#bd3786\"],[0.5555555555555556,\"#d8576b\"],[0.6666666666666666,\"#ed7953\"],[0.7777777777777778,\"#fb9f3a\"],[0.8888888888888888,\"#fdca26\"],[1.0,\"#f0f921\"]],\"sequentialminus\":[[0.0,\"#0d0887\"],[0.1111111111111111,\"#46039f\"],[0.2222222222222222,\"#7201a8\"],[0.3333333333333333,\"#9c179e\"],[0.4444444444444444,\"#bd3786\"],[0.5555555555555556,\"#d8576b\"],[0.6666666666666666,\"#ed7953\"],[0.7777777777777778,\"#fb9f3a\"],[0.8888888888888888,\"#fdca26\"],[1.0,\"#f0f921\"]]},\"colorway\":[\"#636efa\",\"#EF553B\",\"#00cc96\",\"#ab63fa\",\"#FFA15A\",\"#19d3f3\",\"#FF6692\",\"#B6E880\",\"#FF97FF\",\"#FECB52\"],\"font\":{\"color\":\"#2a3f5f\"},\"geo\":{\"bgcolor\":\"white\",\"lakecolor\":\"white\",\"landcolor\":\"#E5ECF6\",\"showlakes\":true,\"showland\":true,\"subunitcolor\":\"white\"},\"hoverlabel\":{\"align\":\"left\"},\"hovermode\":\"closest\",\"mapbox\":{\"style\":\"light\"},\"paper_bgcolor\":\"white\",\"plot_bgcolor\":\"#E5ECF6\",\"polar\":{\"angularaxis\":{\"gridcolor\":\"white\",\"linecolor\":\"white\",\"ticks\":\"\"},\"bgcolor\":\"#E5ECF6\",\"radialaxis\":{\"gridcolor\":\"white\",\"linecolor\":\"white\",\"ticks\":\"\"}},\"scene\":{\"xaxis\":{\"backgroundcolor\":\"#E5ECF6\",\"gridcolor\":\"white\",\"gridwidth\":2,\"linecolor\":\"white\",\"showbackground\":true,\"ticks\":\"\",\"zerolinecolor\":\"white\"},\"yaxis\":{\"backgroundcolor\":\"#E5ECF6\",\"gridcolor\":\"white\",\"gridwidth\":2,\"linecolor\":\"white\",\"showbackground\":true,\"ticks\":\"\",\"zerolinecolor\":\"white\"},\"zaxis\":{\"backgroundcolor\":\"#E5ECF6\",\"gridcolor\":\"white\",\"gridwidth\":2,\"linecolor\":\"white\",\"showbackground\":true,\"ticks\":\"\",\"zerolinecolor\":\"white\"}},\"shapedefaults\":{\"line\":{\"color\":\"#2a3f5f\"}},\"ternary\":{\"aaxis\":{\"gridcolor\":\"white\",\"linecolor\":\"white\",\"ticks\":\"\"},\"baxis\":{\"gridcolor\":\"white\",\"linecolor\":\"white\",\"ticks\":\"\"},\"bgcolor\":\"#E5ECF6\",\"caxis\":{\"gridcolor\":\"white\",\"linecolor\":\"white\",\"ticks\":\"\"}},\"title\":{\"x\":0.05},\"xaxis\":{\"automargin\":true,\"gridcolor\":\"white\",\"linecolor\":\"white\",\"ticks\":\"\",\"title\":{\"standoff\":15},\"zerolinecolor\":\"white\",\"zerolinewidth\":2},\"yaxis\":{\"automargin\":true,\"gridcolor\":\"white\",\"linecolor\":\"white\",\"ticks\":\"\",\"title\":{\"standoff\":15},\"zerolinecolor\":\"white\",\"zerolinewidth\":2}}},\"legend\":{\"tracegroupgap\":0},\"title\":{\"text\":\"Male and Female Vaccination Comaprision\"},\"piecolorway\":[\"rgb(103,0,31)\",\"rgb(178,24,43)\",\"rgb(214,96,77)\",\"rgb(244,165,130)\",\"rgb(253,219,199)\",\"rgb(247,247,247)\",\"rgb(209,229,240)\",\"rgb(146,197,222)\",\"rgb(67,147,195)\",\"rgb(33,102,172)\",\"rgb(5,48,97)\"]},                        {\"responsive\": true}                    ).then(function(){\n",
       "                            \n",
       "var gd = document.getElementById('5e57522e-1629-42dd-8e5e-cb51fe8bc871');\n",
       "var x = new MutationObserver(function (mutations, observer) {{\n",
       "        var display = window.getComputedStyle(gd).display;\n",
       "        if (!display || display === 'none') {{\n",
       "            console.log([gd, 'removed!']);\n",
       "            Plotly.purge(gd);\n",
       "            observer.disconnect();\n",
       "        }}\n",
       "}});\n",
       "\n",
       "// Listen for the removal of the full notebook cells\n",
       "var notebookContainer = gd.closest('#notebook-container');\n",
       "if (notebookContainer) {{\n",
       "    x.observe(notebookContainer, {childList: true});\n",
       "}}\n",
       "\n",
       "// Listen for the clearing of the current output cell\n",
       "var outputEl = gd.closest('.output');\n",
       "if (outputEl) {{\n",
       "    x.observe(outputEl, {childList: true});\n",
       "}}\n",
       "\n",
       "                        })                };                });            </script>        </div>"
      ]
     },
     "metadata": {},
     "output_type": "display_data"
    }
   ],
   "source": [
    "# Male vs female vaccinaion\n",
    "\n",
    "male = vaccine_df['Male(Individuals Vaccinated)'].sum()\n",
    "female = vaccine_df['Female(Individuals Vaccinated)'].sum()\n",
    "\n",
    "px.pie(names=['Male', 'Female'], values=[male, female], title='Male and Female Vaccination Comaprision',color_discrete_sequence=px.colors.sequential.RdBu)"
   ]
  },
  {
   "cell_type": "code",
   "execution_count": 45,
   "id": "c4c0c84f",
   "metadata": {
    "scrolled": true
   },
   "outputs": [
    {
     "data": {
      "text/html": [
       "<div>\n",
       "<style scoped>\n",
       "    .dataframe tbody tr th:only-of-type {\n",
       "        vertical-align: middle;\n",
       "    }\n",
       "\n",
       "    .dataframe tbody tr th {\n",
       "        vertical-align: top;\n",
       "    }\n",
       "\n",
       "    .dataframe thead th {\n",
       "        text-align: right;\n",
       "    }\n",
       "</style>\n",
       "<table border=\"1\" class=\"dataframe\">\n",
       "  <thead>\n",
       "    <tr style=\"text-align: right;\">\n",
       "      <th></th>\n",
       "      <th>Vaccine Date</th>\n",
       "      <th>State</th>\n",
       "      <th>Total Doses Administered</th>\n",
       "      <th>Sessions</th>\n",
       "      <th>Sites</th>\n",
       "      <th>First Dose Administered</th>\n",
       "      <th>Second Dose Administered</th>\n",
       "      <th>Male (Doses Administered)</th>\n",
       "      <th>Female (Doses Administered)</th>\n",
       "      <th>Transgender (Doses Administered)</th>\n",
       "      <th>Covaxin (Doses Administered)</th>\n",
       "      <th>CoviShield (Doses Administered)</th>\n",
       "      <th>18-44 Years(Individuals Vaccinated)</th>\n",
       "      <th>45-60 Years(Individuals Vaccinated)</th>\n",
       "      <th>60+ Years(Individuals Vaccinated)</th>\n",
       "      <th>Male(Individuals Vaccinated)</th>\n",
       "      <th>Female(Individuals Vaccinated)</th>\n",
       "      <th>Transgender(Individuals Vaccinated)</th>\n",
       "      <th>Total Individuals Vaccinated</th>\n",
       "    </tr>\n",
       "  </thead>\n",
       "  <tbody>\n",
       "    <tr>\n",
       "      <th>212</th>\n",
       "      <td>16/01/2021</td>\n",
       "      <td>Andaman and Nicobar Islands</td>\n",
       "      <td>23.0</td>\n",
       "      <td>2.0</td>\n",
       "      <td>2.0</td>\n",
       "      <td>23.0</td>\n",
       "      <td>0.0</td>\n",
       "      <td>12.0</td>\n",
       "      <td>11.0</td>\n",
       "      <td>0.0</td>\n",
       "      <td>0.0</td>\n",
       "      <td>23.0</td>\n",
       "      <td>NaN</td>\n",
       "      <td>NaN</td>\n",
       "      <td>NaN</td>\n",
       "      <td>NaN</td>\n",
       "      <td>NaN</td>\n",
       "      <td>NaN</td>\n",
       "      <td>23.0</td>\n",
       "    </tr>\n",
       "    <tr>\n",
       "      <th>213</th>\n",
       "      <td>17/01/2021</td>\n",
       "      <td>Andaman and Nicobar Islands</td>\n",
       "      <td>23.0</td>\n",
       "      <td>2.0</td>\n",
       "      <td>2.0</td>\n",
       "      <td>23.0</td>\n",
       "      <td>0.0</td>\n",
       "      <td>12.0</td>\n",
       "      <td>11.0</td>\n",
       "      <td>0.0</td>\n",
       "      <td>0.0</td>\n",
       "      <td>23.0</td>\n",
       "      <td>NaN</td>\n",
       "      <td>NaN</td>\n",
       "      <td>NaN</td>\n",
       "      <td>NaN</td>\n",
       "      <td>NaN</td>\n",
       "      <td>NaN</td>\n",
       "      <td>23.0</td>\n",
       "    </tr>\n",
       "    <tr>\n",
       "      <th>214</th>\n",
       "      <td>18/01/2021</td>\n",
       "      <td>Andaman and Nicobar Islands</td>\n",
       "      <td>42.0</td>\n",
       "      <td>9.0</td>\n",
       "      <td>2.0</td>\n",
       "      <td>42.0</td>\n",
       "      <td>0.0</td>\n",
       "      <td>29.0</td>\n",
       "      <td>13.0</td>\n",
       "      <td>0.0</td>\n",
       "      <td>0.0</td>\n",
       "      <td>42.0</td>\n",
       "      <td>NaN</td>\n",
       "      <td>NaN</td>\n",
       "      <td>NaN</td>\n",
       "      <td>NaN</td>\n",
       "      <td>NaN</td>\n",
       "      <td>NaN</td>\n",
       "      <td>42.0</td>\n",
       "    </tr>\n",
       "    <tr>\n",
       "      <th>215</th>\n",
       "      <td>19/01/2021</td>\n",
       "      <td>Andaman and Nicobar Islands</td>\n",
       "      <td>89.0</td>\n",
       "      <td>12.0</td>\n",
       "      <td>2.0</td>\n",
       "      <td>89.0</td>\n",
       "      <td>0.0</td>\n",
       "      <td>53.0</td>\n",
       "      <td>36.0</td>\n",
       "      <td>0.0</td>\n",
       "      <td>0.0</td>\n",
       "      <td>89.0</td>\n",
       "      <td>NaN</td>\n",
       "      <td>NaN</td>\n",
       "      <td>NaN</td>\n",
       "      <td>NaN</td>\n",
       "      <td>NaN</td>\n",
       "      <td>NaN</td>\n",
       "      <td>89.0</td>\n",
       "    </tr>\n",
       "    <tr>\n",
       "      <th>216</th>\n",
       "      <td>20/01/2021</td>\n",
       "      <td>Andaman and Nicobar Islands</td>\n",
       "      <td>124.0</td>\n",
       "      <td>16.0</td>\n",
       "      <td>3.0</td>\n",
       "      <td>124.0</td>\n",
       "      <td>0.0</td>\n",
       "      <td>67.0</td>\n",
       "      <td>57.0</td>\n",
       "      <td>0.0</td>\n",
       "      <td>0.0</td>\n",
       "      <td>124.0</td>\n",
       "      <td>NaN</td>\n",
       "      <td>NaN</td>\n",
       "      <td>NaN</td>\n",
       "      <td>NaN</td>\n",
       "      <td>NaN</td>\n",
       "      <td>NaN</td>\n",
       "      <td>124.0</td>\n",
       "    </tr>\n",
       "    <tr>\n",
       "      <th>...</th>\n",
       "      <td>...</td>\n",
       "      <td>...</td>\n",
       "      <td>...</td>\n",
       "      <td>...</td>\n",
       "      <td>...</td>\n",
       "      <td>...</td>\n",
       "      <td>...</td>\n",
       "      <td>...</td>\n",
       "      <td>...</td>\n",
       "      <td>...</td>\n",
       "      <td>...</td>\n",
       "      <td>...</td>\n",
       "      <td>...</td>\n",
       "      <td>...</td>\n",
       "      <td>...</td>\n",
       "      <td>...</td>\n",
       "      <td>...</td>\n",
       "      <td>...</td>\n",
       "      <td>...</td>\n",
       "    </tr>\n",
       "    <tr>\n",
       "      <th>7840</th>\n",
       "      <td>11/08/2021</td>\n",
       "      <td>West Bengal</td>\n",
       "      <td>NaN</td>\n",
       "      <td>NaN</td>\n",
       "      <td>NaN</td>\n",
       "      <td>NaN</td>\n",
       "      <td>NaN</td>\n",
       "      <td>NaN</td>\n",
       "      <td>NaN</td>\n",
       "      <td>NaN</td>\n",
       "      <td>NaN</td>\n",
       "      <td>NaN</td>\n",
       "      <td>NaN</td>\n",
       "      <td>NaN</td>\n",
       "      <td>NaN</td>\n",
       "      <td>NaN</td>\n",
       "      <td>NaN</td>\n",
       "      <td>NaN</td>\n",
       "      <td>NaN</td>\n",
       "    </tr>\n",
       "    <tr>\n",
       "      <th>7841</th>\n",
       "      <td>12/08/2021</td>\n",
       "      <td>West Bengal</td>\n",
       "      <td>NaN</td>\n",
       "      <td>NaN</td>\n",
       "      <td>NaN</td>\n",
       "      <td>NaN</td>\n",
       "      <td>NaN</td>\n",
       "      <td>NaN</td>\n",
       "      <td>NaN</td>\n",
       "      <td>NaN</td>\n",
       "      <td>NaN</td>\n",
       "      <td>NaN</td>\n",
       "      <td>NaN</td>\n",
       "      <td>NaN</td>\n",
       "      <td>NaN</td>\n",
       "      <td>NaN</td>\n",
       "      <td>NaN</td>\n",
       "      <td>NaN</td>\n",
       "      <td>NaN</td>\n",
       "    </tr>\n",
       "    <tr>\n",
       "      <th>7842</th>\n",
       "      <td>13/08/2021</td>\n",
       "      <td>West Bengal</td>\n",
       "      <td>NaN</td>\n",
       "      <td>NaN</td>\n",
       "      <td>NaN</td>\n",
       "      <td>NaN</td>\n",
       "      <td>NaN</td>\n",
       "      <td>NaN</td>\n",
       "      <td>NaN</td>\n",
       "      <td>NaN</td>\n",
       "      <td>NaN</td>\n",
       "      <td>NaN</td>\n",
       "      <td>NaN</td>\n",
       "      <td>NaN</td>\n",
       "      <td>NaN</td>\n",
       "      <td>NaN</td>\n",
       "      <td>NaN</td>\n",
       "      <td>NaN</td>\n",
       "      <td>NaN</td>\n",
       "    </tr>\n",
       "    <tr>\n",
       "      <th>7843</th>\n",
       "      <td>14/08/2021</td>\n",
       "      <td>West Bengal</td>\n",
       "      <td>NaN</td>\n",
       "      <td>NaN</td>\n",
       "      <td>NaN</td>\n",
       "      <td>NaN</td>\n",
       "      <td>NaN</td>\n",
       "      <td>NaN</td>\n",
       "      <td>NaN</td>\n",
       "      <td>NaN</td>\n",
       "      <td>NaN</td>\n",
       "      <td>NaN</td>\n",
       "      <td>NaN</td>\n",
       "      <td>NaN</td>\n",
       "      <td>NaN</td>\n",
       "      <td>NaN</td>\n",
       "      <td>NaN</td>\n",
       "      <td>NaN</td>\n",
       "      <td>NaN</td>\n",
       "    </tr>\n",
       "    <tr>\n",
       "      <th>7844</th>\n",
       "      <td>15/08/2021</td>\n",
       "      <td>West Bengal</td>\n",
       "      <td>NaN</td>\n",
       "      <td>NaN</td>\n",
       "      <td>NaN</td>\n",
       "      <td>NaN</td>\n",
       "      <td>NaN</td>\n",
       "      <td>NaN</td>\n",
       "      <td>NaN</td>\n",
       "      <td>NaN</td>\n",
       "      <td>NaN</td>\n",
       "      <td>NaN</td>\n",
       "      <td>NaN</td>\n",
       "      <td>NaN</td>\n",
       "      <td>NaN</td>\n",
       "      <td>NaN</td>\n",
       "      <td>NaN</td>\n",
       "      <td>NaN</td>\n",
       "      <td>NaN</td>\n",
       "    </tr>\n",
       "  </tbody>\n",
       "</table>\n",
       "<p>7633 rows × 19 columns</p>\n",
       "</div>"
      ],
      "text/plain": [
       "     Vaccine Date                        State  Total Doses Administered  \\\n",
       "212    16/01/2021  Andaman and Nicobar Islands                      23.0   \n",
       "213    17/01/2021  Andaman and Nicobar Islands                      23.0   \n",
       "214    18/01/2021  Andaman and Nicobar Islands                      42.0   \n",
       "215    19/01/2021  Andaman and Nicobar Islands                      89.0   \n",
       "216    20/01/2021  Andaman and Nicobar Islands                     124.0   \n",
       "...           ...                          ...                       ...   \n",
       "7840   11/08/2021                  West Bengal                       NaN   \n",
       "7841   12/08/2021                  West Bengal                       NaN   \n",
       "7842   13/08/2021                  West Bengal                       NaN   \n",
       "7843   14/08/2021                  West Bengal                       NaN   \n",
       "7844   15/08/2021                  West Bengal                       NaN   \n",
       "\n",
       "      Sessions   Sites   First Dose Administered  Second Dose Administered  \\\n",
       "212        2.0      2.0                     23.0                       0.0   \n",
       "213        2.0      2.0                     23.0                       0.0   \n",
       "214        9.0      2.0                     42.0                       0.0   \n",
       "215       12.0      2.0                     89.0                       0.0   \n",
       "216       16.0      3.0                    124.0                       0.0   \n",
       "...        ...      ...                      ...                       ...   \n",
       "7840       NaN      NaN                      NaN                       NaN   \n",
       "7841       NaN      NaN                      NaN                       NaN   \n",
       "7842       NaN      NaN                      NaN                       NaN   \n",
       "7843       NaN      NaN                      NaN                       NaN   \n",
       "7844       NaN      NaN                      NaN                       NaN   \n",
       "\n",
       "      Male (Doses Administered)  Female (Doses Administered)  \\\n",
       "212                        12.0                         11.0   \n",
       "213                        12.0                         11.0   \n",
       "214                        29.0                         13.0   \n",
       "215                        53.0                         36.0   \n",
       "216                        67.0                         57.0   \n",
       "...                         ...                          ...   \n",
       "7840                        NaN                          NaN   \n",
       "7841                        NaN                          NaN   \n",
       "7842                        NaN                          NaN   \n",
       "7843                        NaN                          NaN   \n",
       "7844                        NaN                          NaN   \n",
       "\n",
       "      Transgender (Doses Administered)   Covaxin (Doses Administered)  \\\n",
       "212                                0.0                            0.0   \n",
       "213                                0.0                            0.0   \n",
       "214                                0.0                            0.0   \n",
       "215                                0.0                            0.0   \n",
       "216                                0.0                            0.0   \n",
       "...                                ...                            ...   \n",
       "7840                               NaN                            NaN   \n",
       "7841                               NaN                            NaN   \n",
       "7842                               NaN                            NaN   \n",
       "7843                               NaN                            NaN   \n",
       "7844                               NaN                            NaN   \n",
       "\n",
       "      CoviShield (Doses Administered)  18-44 Years(Individuals Vaccinated)  \\\n",
       "212                              23.0                                  NaN   \n",
       "213                              23.0                                  NaN   \n",
       "214                              42.0                                  NaN   \n",
       "215                              89.0                                  NaN   \n",
       "216                             124.0                                  NaN   \n",
       "...                               ...                                  ...   \n",
       "7840                              NaN                                  NaN   \n",
       "7841                              NaN                                  NaN   \n",
       "7842                              NaN                                  NaN   \n",
       "7843                              NaN                                  NaN   \n",
       "7844                              NaN                                  NaN   \n",
       "\n",
       "      45-60 Years(Individuals Vaccinated)  60+ Years(Individuals Vaccinated)  \\\n",
       "212                                   NaN                                NaN   \n",
       "213                                   NaN                                NaN   \n",
       "214                                   NaN                                NaN   \n",
       "215                                   NaN                                NaN   \n",
       "216                                   NaN                                NaN   \n",
       "...                                   ...                                ...   \n",
       "7840                                  NaN                                NaN   \n",
       "7841                                  NaN                                NaN   \n",
       "7842                                  NaN                                NaN   \n",
       "7843                                  NaN                                NaN   \n",
       "7844                                  NaN                                NaN   \n",
       "\n",
       "      Male(Individuals Vaccinated)  Female(Individuals Vaccinated)  \\\n",
       "212                            NaN                             NaN   \n",
       "213                            NaN                             NaN   \n",
       "214                            NaN                             NaN   \n",
       "215                            NaN                             NaN   \n",
       "216                            NaN                             NaN   \n",
       "...                            ...                             ...   \n",
       "7840                           NaN                             NaN   \n",
       "7841                           NaN                             NaN   \n",
       "7842                           NaN                             NaN   \n",
       "7843                           NaN                             NaN   \n",
       "7844                           NaN                             NaN   \n",
       "\n",
       "      Transgender(Individuals Vaccinated)  Total Individuals Vaccinated  \n",
       "212                                   NaN                          23.0  \n",
       "213                                   NaN                          23.0  \n",
       "214                                   NaN                          42.0  \n",
       "215                                   NaN                          89.0  \n",
       "216                                   NaN                         124.0  \n",
       "...                                   ...                           ...  \n",
       "7840                                  NaN                           NaN  \n",
       "7841                                  NaN                           NaN  \n",
       "7842                                  NaN                           NaN  \n",
       "7843                                  NaN                           NaN  \n",
       "7844                                  NaN                           NaN  \n",
       "\n",
       "[7633 rows x 19 columns]"
      ]
     },
     "execution_count": 45,
     "metadata": {},
     "output_type": "execute_result"
    }
   ],
   "source": [
    "#Remove rows where state = india\n",
    "\n",
    "vaccine = vaccine_df[vaccine_df.State!='India']\n",
    "vaccine"
   ]
  },
  {
   "cell_type": "code",
   "execution_count": 49,
   "id": "5b168b3f",
   "metadata": {},
   "outputs": [
    {
     "data": {
      "text/html": [
       "<div>\n",
       "<style scoped>\n",
       "    .dataframe tbody tr th:only-of-type {\n",
       "        vertical-align: middle;\n",
       "    }\n",
       "\n",
       "    .dataframe tbody tr th {\n",
       "        vertical-align: top;\n",
       "    }\n",
       "\n",
       "    .dataframe thead th {\n",
       "        text-align: right;\n",
       "    }\n",
       "</style>\n",
       "<table border=\"1\" class=\"dataframe\">\n",
       "  <thead>\n",
       "    <tr style=\"text-align: right;\">\n",
       "      <th></th>\n",
       "      <th>Vaccine Date</th>\n",
       "      <th>State</th>\n",
       "      <th>Total Doses Administered</th>\n",
       "      <th>Sessions</th>\n",
       "      <th>Sites</th>\n",
       "      <th>First Dose Administered</th>\n",
       "      <th>Second Dose Administered</th>\n",
       "      <th>Male (Doses Administered)</th>\n",
       "      <th>Female (Doses Administered)</th>\n",
       "      <th>Transgender (Doses Administered)</th>\n",
       "      <th>Covaxin (Doses Administered)</th>\n",
       "      <th>CoviShield (Doses Administered)</th>\n",
       "      <th>18-44 Years(Individuals Vaccinated)</th>\n",
       "      <th>45-60 Years(Individuals Vaccinated)</th>\n",
       "      <th>60+ Years(Individuals Vaccinated)</th>\n",
       "      <th>Male(Individuals Vaccinated)</th>\n",
       "      <th>Female(Individuals Vaccinated)</th>\n",
       "      <th>Transgender(Individuals Vaccinated)</th>\n",
       "      <th>Total</th>\n",
       "    </tr>\n",
       "  </thead>\n",
       "  <tbody>\n",
       "    <tr>\n",
       "      <th>212</th>\n",
       "      <td>16/01/2021</td>\n",
       "      <td>Andaman and Nicobar Islands</td>\n",
       "      <td>23.0</td>\n",
       "      <td>2.0</td>\n",
       "      <td>2.0</td>\n",
       "      <td>23.0</td>\n",
       "      <td>0.0</td>\n",
       "      <td>12.0</td>\n",
       "      <td>11.0</td>\n",
       "      <td>0.0</td>\n",
       "      <td>0.0</td>\n",
       "      <td>23.0</td>\n",
       "      <td>NaN</td>\n",
       "      <td>NaN</td>\n",
       "      <td>NaN</td>\n",
       "      <td>NaN</td>\n",
       "      <td>NaN</td>\n",
       "      <td>NaN</td>\n",
       "      <td>23.0</td>\n",
       "    </tr>\n",
       "    <tr>\n",
       "      <th>213</th>\n",
       "      <td>17/01/2021</td>\n",
       "      <td>Andaman and Nicobar Islands</td>\n",
       "      <td>23.0</td>\n",
       "      <td>2.0</td>\n",
       "      <td>2.0</td>\n",
       "      <td>23.0</td>\n",
       "      <td>0.0</td>\n",
       "      <td>12.0</td>\n",
       "      <td>11.0</td>\n",
       "      <td>0.0</td>\n",
       "      <td>0.0</td>\n",
       "      <td>23.0</td>\n",
       "      <td>NaN</td>\n",
       "      <td>NaN</td>\n",
       "      <td>NaN</td>\n",
       "      <td>NaN</td>\n",
       "      <td>NaN</td>\n",
       "      <td>NaN</td>\n",
       "      <td>23.0</td>\n",
       "    </tr>\n",
       "    <tr>\n",
       "      <th>214</th>\n",
       "      <td>18/01/2021</td>\n",
       "      <td>Andaman and Nicobar Islands</td>\n",
       "      <td>42.0</td>\n",
       "      <td>9.0</td>\n",
       "      <td>2.0</td>\n",
       "      <td>42.0</td>\n",
       "      <td>0.0</td>\n",
       "      <td>29.0</td>\n",
       "      <td>13.0</td>\n",
       "      <td>0.0</td>\n",
       "      <td>0.0</td>\n",
       "      <td>42.0</td>\n",
       "      <td>NaN</td>\n",
       "      <td>NaN</td>\n",
       "      <td>NaN</td>\n",
       "      <td>NaN</td>\n",
       "      <td>NaN</td>\n",
       "      <td>NaN</td>\n",
       "      <td>42.0</td>\n",
       "    </tr>\n",
       "    <tr>\n",
       "      <th>215</th>\n",
       "      <td>19/01/2021</td>\n",
       "      <td>Andaman and Nicobar Islands</td>\n",
       "      <td>89.0</td>\n",
       "      <td>12.0</td>\n",
       "      <td>2.0</td>\n",
       "      <td>89.0</td>\n",
       "      <td>0.0</td>\n",
       "      <td>53.0</td>\n",
       "      <td>36.0</td>\n",
       "      <td>0.0</td>\n",
       "      <td>0.0</td>\n",
       "      <td>89.0</td>\n",
       "      <td>NaN</td>\n",
       "      <td>NaN</td>\n",
       "      <td>NaN</td>\n",
       "      <td>NaN</td>\n",
       "      <td>NaN</td>\n",
       "      <td>NaN</td>\n",
       "      <td>89.0</td>\n",
       "    </tr>\n",
       "    <tr>\n",
       "      <th>216</th>\n",
       "      <td>20/01/2021</td>\n",
       "      <td>Andaman and Nicobar Islands</td>\n",
       "      <td>124.0</td>\n",
       "      <td>16.0</td>\n",
       "      <td>3.0</td>\n",
       "      <td>124.0</td>\n",
       "      <td>0.0</td>\n",
       "      <td>67.0</td>\n",
       "      <td>57.0</td>\n",
       "      <td>0.0</td>\n",
       "      <td>0.0</td>\n",
       "      <td>124.0</td>\n",
       "      <td>NaN</td>\n",
       "      <td>NaN</td>\n",
       "      <td>NaN</td>\n",
       "      <td>NaN</td>\n",
       "      <td>NaN</td>\n",
       "      <td>NaN</td>\n",
       "      <td>124.0</td>\n",
       "    </tr>\n",
       "  </tbody>\n",
       "</table>\n",
       "</div>"
      ],
      "text/plain": [
       "    Vaccine Date                        State  Total Doses Administered  \\\n",
       "212   16/01/2021  Andaman and Nicobar Islands                      23.0   \n",
       "213   17/01/2021  Andaman and Nicobar Islands                      23.0   \n",
       "214   18/01/2021  Andaman and Nicobar Islands                      42.0   \n",
       "215   19/01/2021  Andaman and Nicobar Islands                      89.0   \n",
       "216   20/01/2021  Andaman and Nicobar Islands                     124.0   \n",
       "\n",
       "     Sessions   Sites   First Dose Administered  Second Dose Administered  \\\n",
       "212       2.0      2.0                     23.0                       0.0   \n",
       "213       2.0      2.0                     23.0                       0.0   \n",
       "214       9.0      2.0                     42.0                       0.0   \n",
       "215      12.0      2.0                     89.0                       0.0   \n",
       "216      16.0      3.0                    124.0                       0.0   \n",
       "\n",
       "     Male (Doses Administered)  Female (Doses Administered)  \\\n",
       "212                       12.0                         11.0   \n",
       "213                       12.0                         11.0   \n",
       "214                       29.0                         13.0   \n",
       "215                       53.0                         36.0   \n",
       "216                       67.0                         57.0   \n",
       "\n",
       "     Transgender (Doses Administered)   Covaxin (Doses Administered)  \\\n",
       "212                               0.0                            0.0   \n",
       "213                               0.0                            0.0   \n",
       "214                               0.0                            0.0   \n",
       "215                               0.0                            0.0   \n",
       "216                               0.0                            0.0   \n",
       "\n",
       "     CoviShield (Doses Administered)  18-44 Years(Individuals Vaccinated)  \\\n",
       "212                             23.0                                  NaN   \n",
       "213                             23.0                                  NaN   \n",
       "214                             42.0                                  NaN   \n",
       "215                             89.0                                  NaN   \n",
       "216                            124.0                                  NaN   \n",
       "\n",
       "     45-60 Years(Individuals Vaccinated)  60+ Years(Individuals Vaccinated)  \\\n",
       "212                                  NaN                                NaN   \n",
       "213                                  NaN                                NaN   \n",
       "214                                  NaN                                NaN   \n",
       "215                                  NaN                                NaN   \n",
       "216                                  NaN                                NaN   \n",
       "\n",
       "     Male(Individuals Vaccinated)  Female(Individuals Vaccinated)  \\\n",
       "212                           NaN                             NaN   \n",
       "213                           NaN                             NaN   \n",
       "214                           NaN                             NaN   \n",
       "215                           NaN                             NaN   \n",
       "216                           NaN                             NaN   \n",
       "\n",
       "     Transgender(Individuals Vaccinated)  Total  \n",
       "212                                  NaN   23.0  \n",
       "213                                  NaN   23.0  \n",
       "214                                  NaN   42.0  \n",
       "215                                  NaN   89.0  \n",
       "216                                  NaN  124.0  "
      ]
     },
     "execution_count": 49,
     "metadata": {},
     "output_type": "execute_result"
    }
   ],
   "source": [
    "vaccine.rename(columns={\"Total Individuals Vaccinated\": \"Total\"}, inplace= True)\n",
    "\n",
    "vaccine.head()"
   ]
  },
  {
   "cell_type": "code",
   "execution_count": 51,
   "id": "3e4f2a0f",
   "metadata": {},
   "outputs": [
    {
     "data": {
      "text/html": [
       "<div>\n",
       "<style scoped>\n",
       "    .dataframe tbody tr th:only-of-type {\n",
       "        vertical-align: middle;\n",
       "    }\n",
       "\n",
       "    .dataframe tbody tr th {\n",
       "        vertical-align: top;\n",
       "    }\n",
       "\n",
       "    .dataframe thead th {\n",
       "        text-align: right;\n",
       "    }\n",
       "</style>\n",
       "<table border=\"1\" class=\"dataframe\">\n",
       "  <thead>\n",
       "    <tr style=\"text-align: right;\">\n",
       "      <th></th>\n",
       "      <th>Total</th>\n",
       "    </tr>\n",
       "    <tr>\n",
       "      <th>State</th>\n",
       "      <th></th>\n",
       "    </tr>\n",
       "  </thead>\n",
       "  <tbody>\n",
       "    <tr>\n",
       "      <th>Maharashtra</th>\n",
       "      <td>1.403075e+09</td>\n",
       "    </tr>\n",
       "    <tr>\n",
       "      <th>Uttar Pradesh</th>\n",
       "      <td>1.200575e+09</td>\n",
       "    </tr>\n",
       "    <tr>\n",
       "      <th>Rajasthan</th>\n",
       "      <td>1.141163e+09</td>\n",
       "    </tr>\n",
       "    <tr>\n",
       "      <th>Gujarat</th>\n",
       "      <td>1.078261e+09</td>\n",
       "    </tr>\n",
       "    <tr>\n",
       "      <th>West Bengal</th>\n",
       "      <td>9.250227e+08</td>\n",
       "    </tr>\n",
       "  </tbody>\n",
       "</table>\n",
       "</div>"
      ],
      "text/plain": [
       "                      Total\n",
       "State                      \n",
       "Maharashtra    1.403075e+09\n",
       "Uttar Pradesh  1.200575e+09\n",
       "Rajasthan      1.141163e+09\n",
       "Gujarat        1.078261e+09\n",
       "West Bengal    9.250227e+08"
      ]
     },
     "execution_count": 51,
     "metadata": {},
     "output_type": "execute_result"
    }
   ],
   "source": [
    "# most vaccinated state\n",
    "\n",
    "max_vac = vaccine.groupby('State')['Total'].sum().to_frame('Total')\n",
    "max_vac = max_vac.sort_values('Total', ascending= False)[:5]\n",
    "max_vac"
   ]
  },
  {
   "cell_type": "code",
   "execution_count": 59,
   "id": "9c7b2603",
   "metadata": {},
   "outputs": [
    {
     "data": {
      "image/png": "[encoded data removed]",
      "text/plain": [
       "<Figure size 720x360 with 1 Axes>"
      ]
     },
     "metadata": {
      "needs_background": "light"
     },
     "output_type": "display_data"
    }
   ],
   "source": [
    "#plotting\n",
    "\n",
    "fig = plt.figure(figsize=(10,5))\n",
    "plt.title(\"Top 5 Vaccinated states in India\", size=20)\n",
    "x= sns.barplot(data= max_vac.iloc[:10], y=max_vac.Total, x=max_vac.index, linewidth=2, edgecolor='black')\n",
    "plt.xlabel(\"States\", size=15)\n",
    "plt.ylabel(\"Vaccination\", size=15)\n",
    "plt.xticks(rotation = 50)\n",
    "plt.show()"
   ]
  },
  {
   "cell_type": "code",
   "execution_count": 55,
   "id": "a0d3f24b",
   "metadata": {},
   "outputs": [
    {
     "data": {
      "text/html": [
       "<div>\n",
       "<style scoped>\n",
       "    .dataframe tbody tr th:only-of-type {\n",
       "        vertical-align: middle;\n",
       "    }\n",
       "\n",
       "    .dataframe tbody tr th {\n",
       "        vertical-align: top;\n",
       "    }\n",
       "\n",
       "    .dataframe thead th {\n",
       "        text-align: right;\n",
       "    }\n",
       "</style>\n",
       "<table border=\"1\" class=\"dataframe\">\n",
       "  <thead>\n",
       "    <tr style=\"text-align: right;\">\n",
       "      <th></th>\n",
       "      <th>Total</th>\n",
       "    </tr>\n",
       "    <tr>\n",
       "      <th>State</th>\n",
       "      <th></th>\n",
       "    </tr>\n",
       "  </thead>\n",
       "  <tbody>\n",
       "    <tr>\n",
       "      <th>Lakshadweep</th>\n",
       "      <td>2124715.0</td>\n",
       "    </tr>\n",
       "    <tr>\n",
       "      <th>Andaman and Nicobar Islands</th>\n",
       "      <td>8102125.0</td>\n",
       "    </tr>\n",
       "    <tr>\n",
       "      <th>Ladakh</th>\n",
       "      <td>9466289.0</td>\n",
       "    </tr>\n",
       "    <tr>\n",
       "      <th>Dadra and Nagar Haveli and Daman and Diu</th>\n",
       "      <td>11358600.0</td>\n",
       "    </tr>\n",
       "    <tr>\n",
       "      <th>Sikkim</th>\n",
       "      <td>16136752.0</td>\n",
       "    </tr>\n",
       "  </tbody>\n",
       "</table>\n",
       "</div>"
      ],
      "text/plain": [
       "                                               Total\n",
       "State                                               \n",
       "Lakshadweep                                2124715.0\n",
       "Andaman and Nicobar Islands                8102125.0\n",
       "Ladakh                                     9466289.0\n",
       "Dadra and Nagar Haveli and Daman and Diu  11358600.0\n",
       "Sikkim                                    16136752.0"
      ]
     },
     "execution_count": 55,
     "metadata": {},
     "output_type": "execute_result"
    }
   ],
   "source": [
    "# least vaccinated states\n",
    "\n",
    "min_vac = vaccine.groupby('State')['Total'].sum().to_frame('Total')\n",
    "min_vac = min_vac.sort_values('Total', ascending= True)[:5]\n",
    "min_vac"
   ]
  },
  {
   "cell_type": "code",
   "execution_count": 60,
   "id": "7e0ac2c8",
   "metadata": {},
   "outputs": [
    {
     "data": {
      "image/png": "[encoded data removed]",
      "text/plain": [
       "<Figure size 720x360 with 1 Axes>"
      ]
     },
     "metadata": {
      "needs_background": "light"
     },
     "output_type": "display_data"
    }
   ],
   "source": [
    "#plotting\n",
    "\n",
    "fig = plt.figure(figsize=(10,5))\n",
    "plt.title(\"5 Least Vaccinated states in India\", size=20)\n",
    "x= sns.barplot(data= min_vac.iloc[:10], y=min_vac.Total, x=min_vac.index, linewidth=2, edgecolor='black')\n",
    "plt.xlabel(\"States\", size=15)\n",
    "plt.ylabel(\"Vaccination\", size=15)\n",
    "plt.xticks(rotation = 50)\n",
    "plt.show()"
   ]
  }
 ],
 "metadata": {
  "kernelspec": {
   "display_name": "Python 3 (ipykernel)",
   "language": "python",
   "name": "python3"
  },
  "language_info": {
   "codemirror_mode": {
    "name": "ipython",
    "version": 3
   },
   "file_extension": ".py",
   "mimetype": "text/x-python",
   "name": "python",
   "nbconvert_exporter": "python",
   "pygments_lexer": "ipython3",
   "version": "3.9.12"
  }
 },
 "nbformat": 4,
 "nbformat_minor": 5
}
